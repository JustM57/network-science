{
 "cells": [
  {
   "cell_type": "markdown",
   "metadata": {
    "collapsed": true,
    "pycharm": {
     "name": "#%% md\n"
    }
   },
   "source": [
    "Here are balanced classes, so the usual accuracy metric is used:\n",
    "**Accuracy = True predictions / All predictions**\n",
    "The baselines are calculated as follows:\n",
    "1. Sample negative edges. Concatenate node features into edge features. Train Gradient boosting on edges features. Calculate score.\n",
    "2. Create a graph on existing edges. Train Laplacian Eigenmaps. Sample negative edges. Concatenate node embeddings into edge embeddings. Train Gradient boosting on edge embeddings. Calculate score.\n",
    "3. Create a graph using existing edges. Sample negative edges. Train a neural network consisting of GCN for node emedding and MLP for link prediction that maps Hadamart product edge embeddings into probability of edge existing. Calculate score.\n",
    "\n",
    "Baseline for grade 4: beat a minimum score\n",
    "Baseline for grade 6: beat a mean score"
   ]
  },
  {
   "cell_type": "code",
   "execution_count": null,
   "outputs": [],
   "source": [],
   "metadata": {
    "collapsed": false,
    "pycharm": {
     "name": "#%%\n"
    }
   }
  }
 ],
 "metadata": {
  "kernelspec": {
   "display_name": "Python 3",
   "language": "python",
   "name": "python3"
  },
  "language_info": {
   "codemirror_mode": {
    "name": "ipython",
    "version": 2
   },
   "file_extension": ".py",
   "mimetype": "text/x-python",
   "name": "python",
   "nbconvert_exporter": "python",
   "pygments_lexer": "ipython2",
   "version": "2.7.6"
  }
 },
 "nbformat": 4,
 "nbformat_minor": 0
}