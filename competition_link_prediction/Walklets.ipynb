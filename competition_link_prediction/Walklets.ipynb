{
 "cells": [
  {
   "cell_type": "code",
   "execution_count": 28,
   "metadata": {
    "collapsed": true,
    "pycharm": {
     "name": "#%%\n"
    }
   },
   "outputs": [],
   "source": [
    "from tqdm.notebook import tqdm\n",
    "import networkx as nx\n",
    "import karateclub\n",
    "from sklearn.decomposition import TruncatedSVD\n",
    "import numpy as np\n",
    "import link_prediction as lp\n",
    "from sklearn.linear_model import LogisticRegression\n",
    "from sklearn.metrics import accuracy_score"
   ]
  },
  {
   "cell_type": "code",
   "execution_count": 65,
   "outputs": [],
   "source": [
    "G, node_emb = lp.load_initial_graph()"
   ],
   "metadata": {
    "collapsed": false,
    "pycharm": {
     "name": "#%%\n"
    }
   }
  },
  {
   "cell_type": "code",
   "execution_count": 66,
   "outputs": [],
   "source": [
    "positive_edges = list(G.edges())\n",
    "negative_edges = lp.negative_sampling(G)"
   ],
   "metadata": {
    "collapsed": false,
    "pycharm": {
     "name": "#%%\n"
    }
   }
  },
  {
   "cell_type": "code",
   "execution_count": null,
   "outputs": [],
   "source": [
    "from scipy import sparse\n",
    "coo_emb = sparse.coo_matrix(node_emb)"
   ],
   "metadata": {
    "collapsed": false,
    "pycharm": {
     "name": "#%%\n"
    }
   }
  },
  {
   "cell_type": "code",
   "execution_count": 61,
   "outputs": [],
   "source": [
    "class MeanWalklets(karateclub.Walklets):\n",
    "    def get_embedding(self):\n",
    "        return np.mean(self._embedding, axis=0)\n",
    "\n",
    "\n",
    "models = [\n",
    "    (\"DeepWalk\", karateclub.DeepWalk(walk_number=10, walk_length=30, dimensions=64, window_size=5, epochs=5, workers=12)),\n",
    "    (\"LaplacianEigenmaps\", karateclub.LaplacianEigenmaps(dimensions=64)),\n",
    "    (\"MeanWalklets\", MeanWalklets(walk_number=10, walk_length=30, dimensions=64, window_size=5, epochs=5, workers=12)),\n",
    "    (\"Node2Vec\", karateclub.Node2Vec(dimensions=64, walk_length=30, p=1, q=1, workers=12, epochs=5)),\n",
    "    (\"Role2Vec\", karateclub.Role2Vec(walk_length=30, workers=12, epochs=5, dimensions=64)),\n",
    "]"
   ],
   "metadata": {
    "collapsed": false,
    "pycharm": {
     "name": "#%%\n"
    }
   }
  },
  {
   "cell_type": "code",
   "execution_count": 44,
   "outputs": [],
   "source": [
    "invG = nx.DiGraph()\n",
    "invG.add_nodes_from(subG.nodes)\n",
    "inv_train_edges = [(v, u) for u, v in train_edges]\n",
    "invG.add_edges_from(inv_train_edges)\n",
    "undirG = nx.Graph()\n",
    "undirG.add_nodes_from(subG.nodes)\n",
    "undir_train_edges = train_edges.copy()\n",
    "for n in subG.nodes:\n",
    "    if (n, n) not in undir_train_edges:\n",
    "        undir_train_edges.append((n, n))\n",
    "undirG.add_edges_from(undir_train_edges)"
   ],
   "metadata": {
    "collapsed": false,
    "pycharm": {
     "name": "#%%\n"
    }
   }
  },
  {
   "cell_type": "code",
   "execution_count": 63,
   "outputs": [],
   "source": [
    "graphs = [\n",
    "    ('G', G),\n",
    "    # ('subG', subG),\n",
    "    # ('invG', invG),\n",
    "    # ('undirG', undirG)\n",
    "]"
   ],
   "metadata": {
    "collapsed": false,
    "pycharm": {
     "name": "#%%\n"
    }
   }
  },
  {
   "cell_type": "code",
   "execution_count": 64,
   "outputs": [
    {
     "name": "stdout",
     "output_type": "stream",
     "text": [
      "DeepWalk G average_operator 0.6850558659217877\n",
      "DeepWalk G hadamard_operator 0.8687150837988827\n",
      "DeepWalk G weighted_l1_operator 0.710195530726257\n",
      "DeepWalk G weighted_l2_operator 0.7091480446927374\n",
      "DeepWalk G neighbor_weighted_l1_operator 0.7908519553072626\n",
      "DeepWalk G neighbor_weighted_l2_operator 0.7946927374301676\n",
      "not implemented for directed type LaplacianEigenmaps G\n"
     ]
    },
    {
     "ename": "KeyboardInterrupt",
     "evalue": "",
     "output_type": "error",
     "traceback": [
      "\u001B[0;31m---------------------------------------------------------------------------\u001B[0m",
      "\u001B[0;31mKeyboardInterrupt\u001B[0m                         Traceback (most recent call last)",
      "\u001B[0;32m/tmp/ipykernel_68943/359864663.py\u001B[0m in \u001B[0;36m<module>\u001B[0;34m\u001B[0m\n\u001B[1;32m      4\u001B[0m     \u001B[0;32mfor\u001B[0m \u001B[0mgrap_name\u001B[0m\u001B[0;34m,\u001B[0m \u001B[0mgraph\u001B[0m \u001B[0;32min\u001B[0m \u001B[0mgraphs\u001B[0m\u001B[0;34m:\u001B[0m\u001B[0;34m\u001B[0m\u001B[0;34m\u001B[0m\u001B[0m\n\u001B[1;32m      5\u001B[0m         \u001B[0;32mtry\u001B[0m\u001B[0;34m:\u001B[0m\u001B[0;34m\u001B[0m\u001B[0;34m\u001B[0m\u001B[0m\n\u001B[0;32m----> 6\u001B[0;31m             \u001B[0mmodel\u001B[0m\u001B[0;34m.\u001B[0m\u001B[0mfit\u001B[0m\u001B[0;34m(\u001B[0m\u001B[0mgraph\u001B[0m\u001B[0;34m)\u001B[0m\u001B[0;34m\u001B[0m\u001B[0;34m\u001B[0m\u001B[0m\n\u001B[0m\u001B[1;32m      7\u001B[0m             \u001B[0memb\u001B[0m \u001B[0;34m=\u001B[0m \u001B[0mmodel\u001B[0m\u001B[0;34m.\u001B[0m\u001B[0mget_embedding\u001B[0m\u001B[0;34m(\u001B[0m\u001B[0;34m)\u001B[0m\u001B[0;34m\u001B[0m\u001B[0;34m\u001B[0m\u001B[0m\n\u001B[1;32m      8\u001B[0m             \u001B[0;32mfor\u001B[0m \u001B[0mname\u001B[0m\u001B[0;34m,\u001B[0m \u001B[0moperator\u001B[0m \u001B[0;32min\u001B[0m \u001B[0mlp\u001B[0m\u001B[0;34m.\u001B[0m\u001B[0moperators\u001B[0m\u001B[0;34m.\u001B[0m\u001B[0mitems\u001B[0m\u001B[0;34m(\u001B[0m\u001B[0;34m)\u001B[0m\u001B[0;34m:\u001B[0m\u001B[0;34m\u001B[0m\u001B[0;34m\u001B[0m\u001B[0m\n",
      "\u001B[0;32m~/anaconda3/envs/made/lib/python3.8/site-packages/karateclub/node_embedding/neighbourhood/walklets.py\u001B[0m in \u001B[0;36mfit\u001B[0;34m(self, graph)\u001B[0m\n\u001B[1;32m     73\u001B[0m         \u001B[0;32mfor\u001B[0m \u001B[0mpower\u001B[0m \u001B[0;32min\u001B[0m \u001B[0mrange\u001B[0m\u001B[0;34m(\u001B[0m\u001B[0;36m1\u001B[0m\u001B[0;34m,\u001B[0m \u001B[0mself\u001B[0m\u001B[0;34m.\u001B[0m\u001B[0mwindow_size\u001B[0m \u001B[0;34m+\u001B[0m \u001B[0;36m1\u001B[0m\u001B[0;34m)\u001B[0m\u001B[0;34m:\u001B[0m\u001B[0;34m\u001B[0m\u001B[0;34m\u001B[0m\u001B[0m\n\u001B[1;32m     74\u001B[0m             \u001B[0mwalklets\u001B[0m \u001B[0;34m=\u001B[0m \u001B[0mself\u001B[0m\u001B[0;34m.\u001B[0m\u001B[0m_select_walklets\u001B[0m\u001B[0;34m(\u001B[0m\u001B[0mwalker\u001B[0m\u001B[0;34m.\u001B[0m\u001B[0mwalks\u001B[0m\u001B[0;34m,\u001B[0m \u001B[0mpower\u001B[0m\u001B[0;34m)\u001B[0m\u001B[0;34m\u001B[0m\u001B[0;34m\u001B[0m\u001B[0m\n\u001B[0;32m---> 75\u001B[0;31m             model = Word2Vec(\n\u001B[0m\u001B[1;32m     76\u001B[0m                 \u001B[0mwalklets\u001B[0m\u001B[0;34m,\u001B[0m\u001B[0;34m\u001B[0m\u001B[0;34m\u001B[0m\u001B[0m\n\u001B[1;32m     77\u001B[0m                 \u001B[0mhs\u001B[0m\u001B[0;34m=\u001B[0m\u001B[0;36m0\u001B[0m\u001B[0;34m,\u001B[0m\u001B[0;34m\u001B[0m\u001B[0;34m\u001B[0m\u001B[0m\n",
      "\u001B[0;32m~/anaconda3/envs/made/lib/python3.8/site-packages/gensim/models/word2vec.py\u001B[0m in \u001B[0;36m__init__\u001B[0;34m(self, sentences, corpus_file, vector_size, alpha, window, min_count, max_vocab_size, sample, seed, workers, min_alpha, sg, hs, negative, ns_exponent, cbow_mean, hashfxn, epochs, null_word, trim_rule, sorted_vocab, batch_words, compute_loss, callbacks, comment, max_final_vocab, shrink_windows)\u001B[0m\n\u001B[1;32m    424\u001B[0m             \u001B[0mself\u001B[0m\u001B[0;34m.\u001B[0m\u001B[0m_check_corpus_sanity\u001B[0m\u001B[0;34m(\u001B[0m\u001B[0mcorpus_iterable\u001B[0m\u001B[0;34m=\u001B[0m\u001B[0mcorpus_iterable\u001B[0m\u001B[0;34m,\u001B[0m \u001B[0mcorpus_file\u001B[0m\u001B[0;34m=\u001B[0m\u001B[0mcorpus_file\u001B[0m\u001B[0;34m,\u001B[0m \u001B[0mpasses\u001B[0m\u001B[0;34m=\u001B[0m\u001B[0;34m(\u001B[0m\u001B[0mepochs\u001B[0m \u001B[0;34m+\u001B[0m \u001B[0;36m1\u001B[0m\u001B[0;34m)\u001B[0m\u001B[0;34m)\u001B[0m\u001B[0;34m\u001B[0m\u001B[0;34m\u001B[0m\u001B[0m\n\u001B[1;32m    425\u001B[0m             \u001B[0mself\u001B[0m\u001B[0;34m.\u001B[0m\u001B[0mbuild_vocab\u001B[0m\u001B[0;34m(\u001B[0m\u001B[0mcorpus_iterable\u001B[0m\u001B[0;34m=\u001B[0m\u001B[0mcorpus_iterable\u001B[0m\u001B[0;34m,\u001B[0m \u001B[0mcorpus_file\u001B[0m\u001B[0;34m=\u001B[0m\u001B[0mcorpus_file\u001B[0m\u001B[0;34m,\u001B[0m \u001B[0mtrim_rule\u001B[0m\u001B[0;34m=\u001B[0m\u001B[0mtrim_rule\u001B[0m\u001B[0;34m)\u001B[0m\u001B[0;34m\u001B[0m\u001B[0;34m\u001B[0m\u001B[0m\n\u001B[0;32m--> 426\u001B[0;31m             self.train(\n\u001B[0m\u001B[1;32m    427\u001B[0m                 \u001B[0mcorpus_iterable\u001B[0m\u001B[0;34m=\u001B[0m\u001B[0mcorpus_iterable\u001B[0m\u001B[0;34m,\u001B[0m \u001B[0mcorpus_file\u001B[0m\u001B[0;34m=\u001B[0m\u001B[0mcorpus_file\u001B[0m\u001B[0;34m,\u001B[0m \u001B[0mtotal_examples\u001B[0m\u001B[0;34m=\u001B[0m\u001B[0mself\u001B[0m\u001B[0;34m.\u001B[0m\u001B[0mcorpus_count\u001B[0m\u001B[0;34m,\u001B[0m\u001B[0;34m\u001B[0m\u001B[0;34m\u001B[0m\u001B[0m\n\u001B[1;32m    428\u001B[0m                 \u001B[0mtotal_words\u001B[0m\u001B[0;34m=\u001B[0m\u001B[0mself\u001B[0m\u001B[0;34m.\u001B[0m\u001B[0mcorpus_total_words\u001B[0m\u001B[0;34m,\u001B[0m \u001B[0mepochs\u001B[0m\u001B[0;34m=\u001B[0m\u001B[0mself\u001B[0m\u001B[0;34m.\u001B[0m\u001B[0mepochs\u001B[0m\u001B[0;34m,\u001B[0m \u001B[0mstart_alpha\u001B[0m\u001B[0;34m=\u001B[0m\u001B[0mself\u001B[0m\u001B[0;34m.\u001B[0m\u001B[0malpha\u001B[0m\u001B[0;34m,\u001B[0m\u001B[0;34m\u001B[0m\u001B[0;34m\u001B[0m\u001B[0m\n",
      "\u001B[0;32m~/anaconda3/envs/made/lib/python3.8/site-packages/gensim/models/word2vec.py\u001B[0m in \u001B[0;36mtrain\u001B[0;34m(self, corpus_iterable, corpus_file, total_examples, total_words, epochs, start_alpha, end_alpha, word_count, queue_factor, report_delay, compute_loss, callbacks, **kwargs)\u001B[0m\n\u001B[1;32m   1067\u001B[0m \u001B[0;34m\u001B[0m\u001B[0m\n\u001B[1;32m   1068\u001B[0m             \u001B[0;32mif\u001B[0m \u001B[0mcorpus_iterable\u001B[0m \u001B[0;32mis\u001B[0m \u001B[0;32mnot\u001B[0m \u001B[0;32mNone\u001B[0m\u001B[0;34m:\u001B[0m\u001B[0;34m\u001B[0m\u001B[0;34m\u001B[0m\u001B[0m\n\u001B[0;32m-> 1069\u001B[0;31m                 trained_word_count_epoch, raw_word_count_epoch, job_tally_epoch = self._train_epoch(\n\u001B[0m\u001B[1;32m   1070\u001B[0m                     \u001B[0mcorpus_iterable\u001B[0m\u001B[0;34m,\u001B[0m \u001B[0mcur_epoch\u001B[0m\u001B[0;34m=\u001B[0m\u001B[0mcur_epoch\u001B[0m\u001B[0;34m,\u001B[0m \u001B[0mtotal_examples\u001B[0m\u001B[0;34m=\u001B[0m\u001B[0mtotal_examples\u001B[0m\u001B[0;34m,\u001B[0m\u001B[0;34m\u001B[0m\u001B[0;34m\u001B[0m\u001B[0m\n\u001B[1;32m   1071\u001B[0m                     \u001B[0mtotal_words\u001B[0m\u001B[0;34m=\u001B[0m\u001B[0mtotal_words\u001B[0m\u001B[0;34m,\u001B[0m \u001B[0mqueue_factor\u001B[0m\u001B[0;34m=\u001B[0m\u001B[0mqueue_factor\u001B[0m\u001B[0;34m,\u001B[0m \u001B[0mreport_delay\u001B[0m\u001B[0;34m=\u001B[0m\u001B[0mreport_delay\u001B[0m\u001B[0;34m,\u001B[0m\u001B[0;34m\u001B[0m\u001B[0;34m\u001B[0m\u001B[0m\n",
      "\u001B[0;32m~/anaconda3/envs/made/lib/python3.8/site-packages/gensim/models/word2vec.py\u001B[0m in \u001B[0;36m_train_epoch\u001B[0;34m(self, data_iterable, cur_epoch, total_examples, total_words, queue_factor, report_delay, callbacks)\u001B[0m\n\u001B[1;32m   1428\u001B[0m             \u001B[0mthread\u001B[0m\u001B[0;34m.\u001B[0m\u001B[0mstart\u001B[0m\u001B[0;34m(\u001B[0m\u001B[0;34m)\u001B[0m\u001B[0;34m\u001B[0m\u001B[0;34m\u001B[0m\u001B[0m\n\u001B[1;32m   1429\u001B[0m \u001B[0;34m\u001B[0m\u001B[0m\n\u001B[0;32m-> 1430\u001B[0;31m         trained_word_count, raw_word_count, job_tally = self._log_epoch_progress(\n\u001B[0m\u001B[1;32m   1431\u001B[0m             \u001B[0mprogress_queue\u001B[0m\u001B[0;34m,\u001B[0m \u001B[0mjob_queue\u001B[0m\u001B[0;34m,\u001B[0m \u001B[0mcur_epoch\u001B[0m\u001B[0;34m=\u001B[0m\u001B[0mcur_epoch\u001B[0m\u001B[0;34m,\u001B[0m \u001B[0mtotal_examples\u001B[0m\u001B[0;34m=\u001B[0m\u001B[0mtotal_examples\u001B[0m\u001B[0;34m,\u001B[0m\u001B[0;34m\u001B[0m\u001B[0;34m\u001B[0m\u001B[0m\n\u001B[1;32m   1432\u001B[0m             \u001B[0mtotal_words\u001B[0m\u001B[0;34m=\u001B[0m\u001B[0mtotal_words\u001B[0m\u001B[0;34m,\u001B[0m \u001B[0mreport_delay\u001B[0m\u001B[0;34m=\u001B[0m\u001B[0mreport_delay\u001B[0m\u001B[0;34m,\u001B[0m \u001B[0mis_corpus_file_mode\u001B[0m\u001B[0;34m=\u001B[0m\u001B[0;32mFalse\u001B[0m\u001B[0;34m,\u001B[0m\u001B[0;34m\u001B[0m\u001B[0;34m\u001B[0m\u001B[0m\n",
      "\u001B[0;32m~/anaconda3/envs/made/lib/python3.8/site-packages/gensim/models/word2vec.py\u001B[0m in \u001B[0;36m_log_epoch_progress\u001B[0;34m(self, progress_queue, job_queue, cur_epoch, total_examples, total_words, report_delay, is_corpus_file_mode)\u001B[0m\n\u001B[1;32m   1283\u001B[0m \u001B[0;34m\u001B[0m\u001B[0m\n\u001B[1;32m   1284\u001B[0m         \u001B[0;32mwhile\u001B[0m \u001B[0munfinished_worker_count\u001B[0m \u001B[0;34m>\u001B[0m \u001B[0;36m0\u001B[0m\u001B[0;34m:\u001B[0m\u001B[0;34m\u001B[0m\u001B[0;34m\u001B[0m\u001B[0m\n\u001B[0;32m-> 1285\u001B[0;31m             \u001B[0mreport\u001B[0m \u001B[0;34m=\u001B[0m \u001B[0mprogress_queue\u001B[0m\u001B[0;34m.\u001B[0m\u001B[0mget\u001B[0m\u001B[0;34m(\u001B[0m\u001B[0;34m)\u001B[0m  \u001B[0;31m# blocks if workers too slow\u001B[0m\u001B[0;34m\u001B[0m\u001B[0;34m\u001B[0m\u001B[0m\n\u001B[0m\u001B[1;32m   1286\u001B[0m             \u001B[0;32mif\u001B[0m \u001B[0mreport\u001B[0m \u001B[0;32mis\u001B[0m \u001B[0;32mNone\u001B[0m\u001B[0;34m:\u001B[0m  \u001B[0;31m# a thread reporting that it finished\u001B[0m\u001B[0;34m\u001B[0m\u001B[0;34m\u001B[0m\u001B[0m\n\u001B[1;32m   1287\u001B[0m                 \u001B[0munfinished_worker_count\u001B[0m \u001B[0;34m-=\u001B[0m \u001B[0;36m1\u001B[0m\u001B[0;34m\u001B[0m\u001B[0;34m\u001B[0m\u001B[0m\n",
      "\u001B[0;32m~/anaconda3/envs/made/lib/python3.8/queue.py\u001B[0m in \u001B[0;36mget\u001B[0;34m(self, block, timeout)\u001B[0m\n\u001B[1;32m    168\u001B[0m             \u001B[0;32melif\u001B[0m \u001B[0mtimeout\u001B[0m \u001B[0;32mis\u001B[0m \u001B[0;32mNone\u001B[0m\u001B[0;34m:\u001B[0m\u001B[0;34m\u001B[0m\u001B[0;34m\u001B[0m\u001B[0m\n\u001B[1;32m    169\u001B[0m                 \u001B[0;32mwhile\u001B[0m \u001B[0;32mnot\u001B[0m \u001B[0mself\u001B[0m\u001B[0;34m.\u001B[0m\u001B[0m_qsize\u001B[0m\u001B[0;34m(\u001B[0m\u001B[0;34m)\u001B[0m\u001B[0;34m:\u001B[0m\u001B[0;34m\u001B[0m\u001B[0;34m\u001B[0m\u001B[0m\n\u001B[0;32m--> 170\u001B[0;31m                     \u001B[0mself\u001B[0m\u001B[0;34m.\u001B[0m\u001B[0mnot_empty\u001B[0m\u001B[0;34m.\u001B[0m\u001B[0mwait\u001B[0m\u001B[0;34m(\u001B[0m\u001B[0;34m)\u001B[0m\u001B[0;34m\u001B[0m\u001B[0;34m\u001B[0m\u001B[0m\n\u001B[0m\u001B[1;32m    171\u001B[0m             \u001B[0;32melif\u001B[0m \u001B[0mtimeout\u001B[0m \u001B[0;34m<\u001B[0m \u001B[0;36m0\u001B[0m\u001B[0;34m:\u001B[0m\u001B[0;34m\u001B[0m\u001B[0;34m\u001B[0m\u001B[0m\n\u001B[1;32m    172\u001B[0m                 \u001B[0;32mraise\u001B[0m \u001B[0mValueError\u001B[0m\u001B[0;34m(\u001B[0m\u001B[0;34m\"'timeout' must be a non-negative number\"\u001B[0m\u001B[0;34m)\u001B[0m\u001B[0;34m\u001B[0m\u001B[0;34m\u001B[0m\u001B[0m\n",
      "\u001B[0;32m~/anaconda3/envs/made/lib/python3.8/threading.py\u001B[0m in \u001B[0;36mwait\u001B[0;34m(self, timeout)\u001B[0m\n\u001B[1;32m    300\u001B[0m         \u001B[0;32mtry\u001B[0m\u001B[0;34m:\u001B[0m    \u001B[0;31m# restore state no matter what (e.g., KeyboardInterrupt)\u001B[0m\u001B[0;34m\u001B[0m\u001B[0;34m\u001B[0m\u001B[0m\n\u001B[1;32m    301\u001B[0m             \u001B[0;32mif\u001B[0m \u001B[0mtimeout\u001B[0m \u001B[0;32mis\u001B[0m \u001B[0;32mNone\u001B[0m\u001B[0;34m:\u001B[0m\u001B[0;34m\u001B[0m\u001B[0;34m\u001B[0m\u001B[0m\n\u001B[0;32m--> 302\u001B[0;31m                 \u001B[0mwaiter\u001B[0m\u001B[0;34m.\u001B[0m\u001B[0macquire\u001B[0m\u001B[0;34m(\u001B[0m\u001B[0;34m)\u001B[0m\u001B[0;34m\u001B[0m\u001B[0;34m\u001B[0m\u001B[0m\n\u001B[0m\u001B[1;32m    303\u001B[0m                 \u001B[0mgotit\u001B[0m \u001B[0;34m=\u001B[0m \u001B[0;32mTrue\u001B[0m\u001B[0;34m\u001B[0m\u001B[0;34m\u001B[0m\u001B[0m\n\u001B[1;32m    304\u001B[0m             \u001B[0;32melse\u001B[0m\u001B[0;34m:\u001B[0m\u001B[0;34m\u001B[0m\u001B[0;34m\u001B[0m\u001B[0m\n",
      "\u001B[0;31mKeyboardInterrupt\u001B[0m: "
     ]
    }
   ],
   "source": [
    "train_node_emb = lp.hadamard_operator(subG, node_emb, train_edges)\n",
    "test_node_emb = lp.hadamard_operator(subG, node_emb, test_edges)\n",
    "for model_name, model in models:\n",
    "    for grap_name, graph in graphs:\n",
    "        try:\n",
    "            model.fit(graph)\n",
    "            emb = model.get_embedding()\n",
    "            for name, operator in lp.operators.items():\n",
    "                lr = LogisticRegression(max_iter=1000)\n",
    "                train_emb = operator(G, emb, train_edges)\n",
    "                test_emb = operator(G, emb, test_edges)\n",
    "                train_edge_emb = np.hstack((train_emb, train_node_emb))\n",
    "                test_edge_emb = np.hstack((test_emb, test_node_emb))\n",
    "                lr.fit(train_edge_emb, train_labels)\n",
    "                preds = lr.predict(test_edge_emb)\n",
    "                print(model_name, grap_name, name, accuracy_score(test_labels, preds))\n",
    "        except Exception as e:\n",
    "            print(e, model_name, grap_name)"
   ],
   "metadata": {
    "collapsed": false,
    "pycharm": {
     "name": "#%%\n"
    }
   }
  },
  {
   "cell_type": "code",
   "execution_count": 48,
   "outputs": [
    {
     "name": "stderr",
     "output_type": "stream",
     "text": [
      "\u001B[32m[I 2022-03-29 11:38:27,206]\u001B[0m A new study created in memory with name: no-name-74117432-3aa7-4351-b80b-715d2ad4cb21\u001B[0m\n",
      "\u001B[32m[I 2022-03-29 11:39:10,381]\u001B[0m Trial 0 finished with value: 0.7113438045375218 and parameters: {'boosting_type': 'dart', 'reg_alpha': 0.000895140292450531, 'reg_lambda': 1.0318016157668097e-05, 'num_leaves': 144, 'colsample_bytree': 0.7662034958821031, 'min_child_samples': 88, 'learning_rate': 0.04066183462477414, 'n_estimators': 182, 'walk_number': 8, 'walk_length': 110, 'dimensions': 80, 'window_size': 6, 'epochs': 5}. Best is trial 0 with value: 0.7113438045375218.\u001B[0m\n",
      "\u001B[32m[I 2022-03-29 11:39:42,880]\u001B[0m Trial 1 finished with value: 0.7253054101221641 and parameters: {'boosting_type': 'gbdt', 'reg_alpha': 1.3373345257310983e-08, 'reg_lambda': 0.25785068412750667, 'num_leaves': 90, 'colsample_bytree': 0.6831192699677715, 'min_child_samples': 6, 'learning_rate': 0.04000806168075248, 'n_estimators': 358, 'walk_number': 10, 'walk_length': 40, 'dimensions': 86, 'window_size': 8, 'epochs': 9}. Best is trial 1 with value: 0.7253054101221641.\u001B[0m\n",
      "\u001B[32m[I 2022-03-29 11:40:22,293]\u001B[0m Trial 2 finished with value: 0.7151832460732984 and parameters: {'boosting_type': 'dart', 'reg_alpha': 0.0010073964569282496, 'reg_lambda': 0.018383455995691404, 'num_leaves': 179, 'colsample_bytree': 0.549606916528258, 'min_child_samples': 8, 'learning_rate': 0.016849098179107926, 'n_estimators': 819, 'walk_number': 11, 'walk_length': 17, 'dimensions': 109, 'window_size': 5, 'epochs': 7}. Best is trial 1 with value: 0.7253054101221641.\u001B[0m\n",
      "\u001B[32m[I 2022-03-29 11:40:30,273]\u001B[0m Trial 3 finished with value: 0.6212914485165794 and parameters: {'boosting_type': 'goss', 'reg_alpha': 4.600890271510547, 'reg_lambda': 7.304063356809201, 'num_leaves': 114, 'colsample_bytree': 0.6865365758840001, 'min_child_samples': 37, 'learning_rate': 0.688320748383367, 'n_estimators': 2226, 'walk_number': 6, 'walk_length': 13, 'dimensions': 104, 'window_size': 7, 'epochs': 7}. Best is trial 1 with value: 0.7253054101221641.\u001B[0m\n",
      "\u001B[32m[I 2022-03-29 11:40:50,957]\u001B[0m Trial 4 finished with value: 0.699825479930192 and parameters: {'boosting_type': 'dart', 'reg_alpha': 2.3428668956500792e-05, 'reg_lambda': 0.2573772393455882, 'num_leaves': 104, 'colsample_bytree': 0.7164536973623774, 'min_child_samples': 67, 'learning_rate': 0.01200156096987004, 'n_estimators': 200, 'walk_number': 9, 'walk_length': 40, 'dimensions': 109, 'window_size': 8, 'epochs': 4}. Best is trial 1 with value: 0.7253054101221641.\u001B[0m\n",
      "\u001B[32m[I 2022-03-29 11:41:28,974]\u001B[0m Trial 5 finished with value: 0.6952879581151833 and parameters: {'boosting_type': 'gbdt', 'reg_alpha': 4.345768922325414e-05, 'reg_lambda': 6.404176346730601e-05, 'num_leaves': 228, 'colsample_bytree': 0.5312262753386444, 'min_child_samples': 16, 'learning_rate': 0.6439893346229324, 'n_estimators': 901, 'walk_number': 15, 'walk_length': 50, 'dimensions': 112, 'window_size': 3, 'epochs': 4}. Best is trial 1 with value: 0.7253054101221641.\u001B[0m\n",
      "\u001B[32m[I 2022-03-29 11:42:01,716]\u001B[0m Trial 6 finished with value: 0.7260034904013961 and parameters: {'boosting_type': 'gbdt', 'reg_alpha': 0.11928648435579403, 'reg_lambda': 1.2005666674790197e-06, 'num_leaves': 244, 'colsample_bytree': 0.44033188685220015, 'min_child_samples': 29, 'learning_rate': 0.012077679889551517, 'n_estimators': 774, 'walk_number': 10, 'walk_length': 26, 'dimensions': 114, 'window_size': 7, 'epochs': 7}. Best is trial 6 with value: 0.7260034904013961.\u001B[0m\n",
      "\u001B[32m[I 2022-03-29 11:43:12,753]\u001B[0m Trial 7 finished with value: 0.7040139616055846 and parameters: {'boosting_type': 'dart', 'reg_alpha': 0.00046085198767496565, 'reg_lambda': 4.509250827327666e-07, 'num_leaves': 122, 'colsample_bytree': 0.6278500020241784, 'min_child_samples': 91, 'learning_rate': 0.010896796858963036, 'n_estimators': 110, 'walk_number': 10, 'walk_length': 102, 'dimensions': 101, 'window_size': 7, 'epochs': 8}. Best is trial 6 with value: 0.7260034904013961.\u001B[0m\n",
      "\u001B[32m[I 2022-03-29 11:43:57,841]\u001B[0m Trial 8 finished with value: 0.6970331588132636 and parameters: {'boosting_type': 'goss', 'reg_alpha': 0.0036463632488608825, 'reg_lambda': 1.0101928767432848, 'num_leaves': 145, 'colsample_bytree': 0.7266260294489337, 'min_child_samples': 41, 'learning_rate': 0.1860855149096046, 'n_estimators': 811, 'walk_number': 11, 'walk_length': 111, 'dimensions': 72, 'window_size': 8, 'epochs': 2}. Best is trial 6 with value: 0.7260034904013961.\u001B[0m\n",
      "\u001B[32m[I 2022-03-29 11:44:09,435]\u001B[0m Trial 9 finished with value: 0.6991273996509598 and parameters: {'boosting_type': 'dart', 'reg_alpha': 1.2131462706670057e-08, 'reg_lambda': 1.9299858428449893e-07, 'num_leaves': 110, 'colsample_bytree': 0.8947696823691538, 'min_child_samples': 86, 'learning_rate': 0.035408928175791554, 'n_estimators': 106, 'walk_number': 18, 'walk_length': 17, 'dimensions': 92, 'window_size': 2, 'epochs': 2}. Best is trial 6 with value: 0.7260034904013961.\u001B[0m\n",
      "\u001B[32m[I 2022-03-29 11:45:32,206]\u001B[0m Trial 10 finished with value: 0.7057591623036649 and parameters: {'boosting_type': 'gbdt', 'reg_alpha': 6.2471715709219096, 'reg_lambda': 2.1466744666492206e-08, 'num_leaves': 18, 'colsample_bytree': 0.42678334647502053, 'min_child_samples': 28, 'learning_rate': 0.15475728666437466, 'n_estimators': 2983, 'walk_number': 15, 'walk_length': 81, 'dimensions': 41, 'window_size': 4, 'epochs': 10}. Best is trial 6 with value: 0.7260034904013961.\u001B[0m\n",
      "\u001B[32m[I 2022-03-29 11:45:57,153]\u001B[0m Trial 11 finished with value: 0.7183246073298429 and parameters: {'boosting_type': 'gbdt', 'reg_alpha': 0.12480850785963647, 'reg_lambda': 0.0034873978390835905, 'num_leaves': 54, 'colsample_bytree': 0.9767424897139397, 'min_child_samples': 5, 'learning_rate': 0.039901908390926534, 'n_estimators': 368, 'walk_number': 6, 'walk_length': 42, 'dimensions': 126, 'window_size': 8, 'epochs': 10}. Best is trial 6 with value: 0.7260034904013961.\u001B[0m\n",
      "\u001B[32m[I 2022-03-29 11:47:01,210]\u001B[0m Trial 12 finished with value: 0.7165794066317627 and parameters: {'boosting_type': 'gbdt', 'reg_alpha': 1.1280716904860867e-08, 'reg_lambda': 5.097870874273876e-06, 'num_leaves': 239, 'colsample_bytree': 0.44120159243940354, 'min_child_samples': 21, 'learning_rate': 0.024455317772334548, 'n_estimators': 400, 'walk_number': 14, 'walk_length': 63, 'dimensions': 60, 'window_size': 6, 'epochs': 9}. Best is trial 6 with value: 0.7260034904013961.\u001B[0m\n",
      "\u001B[32m[I 2022-03-29 11:47:37,788]\u001B[0m Trial 13 finished with value: 0.7151832460732984 and parameters: {'boosting_type': 'gbdt', 'reg_alpha': 3.2931824471912184e-07, 'reg_lambda': 0.0005427830564930973, 'num_leaves': 46, 'colsample_bytree': 0.8264091928389954, 'min_child_samples': 61, 'learning_rate': 0.08110177340578362, 'n_estimators': 1611, 'walk_number': 13, 'walk_length': 30, 'dimensions': 125, 'window_size': 7, 'epochs': 7}. Best is trial 6 with value: 0.7260034904013961.\u001B[0m\n",
      "\u001B[32m[I 2022-03-29 11:48:29,646]\u001B[0m Trial 14 finished with value: 0.71239092495637 and parameters: {'boosting_type': 'gbdt', 'reg_alpha': 0.19704079898779672, 'reg_lambda': 0.05277882053459625, 'num_leaves': 188, 'colsample_bytree': 0.5445585758636435, 'min_child_samples': 5, 'learning_rate': 0.08089628367631563, 'n_estimators': 497, 'walk_number': 8, 'walk_length': 73, 'dimensions': 86, 'window_size': 5, 'epochs': 9}. Best is trial 6 with value: 0.7260034904013961.\u001B[0m\n",
      "\u001B[32m[I 2022-03-29 11:48:46,473]\u001B[0m Trial 15 finished with value: 0.7176265270506108 and parameters: {'boosting_type': 'gbdt', 'reg_alpha': 0.05142014527507148, 'reg_lambda': 6.6138789866343215, 'num_leaves': 70, 'colsample_bytree': 0.6139304542179235, 'min_child_samples': 45, 'learning_rate': 0.020799643692478012, 'n_estimators': 262, 'walk_number': 5, 'walk_length': 57, 'dimensions': 58, 'window_size': 6, 'epochs': 6}. Best is trial 6 with value: 0.7260034904013961.\u001B[0m\n",
      "\u001B[32m[I 2022-03-29 11:49:35,429]\u001B[0m Trial 16 finished with value: 0.7207678883071553 and parameters: {'boosting_type': 'gbdt', 'reg_alpha': 6.388850024573828e-07, 'reg_lambda': 1.2425709488729563e-08, 'num_leaves': 194, 'colsample_bytree': 0.47329177487853785, 'min_child_samples': 26, 'learning_rate': 0.05558784035446079, 'n_estimators': 1253, 'walk_number': 17, 'walk_length': 32, 'dimensions': 68, 'window_size': 8, 'epochs': 9}. Best is trial 6 with value: 0.7260034904013961.\u001B[0m\n",
      "\u001B[32m[I 2022-03-29 11:49:55,665]\u001B[0m Trial 17 finished with value: 0.6628272251308901 and parameters: {'boosting_type': 'goss', 'reg_alpha': 0.012066917331697409, 'reg_lambda': 0.0004977161630159445, 'num_leaves': 4, 'colsample_bytree': 0.9058827517455723, 'min_child_samples': 14, 'learning_rate': 0.3052710760297977, 'n_estimators': 600, 'walk_number': 12, 'walk_length': 23, 'dimensions': 120, 'window_size': 7, 'epochs': 8}. Best is trial 6 with value: 0.7260034904013961.\u001B[0m\n",
      "\u001B[32m[I 2022-03-29 11:50:33,647]\u001B[0m Trial 18 finished with value: 0.7158813263525305 and parameters: {'boosting_type': 'gbdt', 'reg_alpha': 0.5316557105764815, 'reg_lambda': 1.51883658082879e-06, 'num_leaves': 77, 'colsample_bytree': 0.6230312294934265, 'min_child_samples': 35, 'learning_rate': 0.012062229055750839, 'n_estimators': 311, 'walk_number': 7, 'walk_length': 86, 'dimensions': 94, 'window_size': 6, 'epochs': 6}. Best is trial 6 with value: 0.7260034904013961.\u001B[0m\n",
      "\u001B[32m[I 2022-03-29 11:51:32,404]\u001B[0m Trial 19 finished with value: 0.7169284467713787 and parameters: {'boosting_type': 'gbdt', 'reg_alpha': 4.5741828498225355e-07, 'reg_lambda': 4.019180182619726e-05, 'num_leaves': 166, 'colsample_bytree': 0.40064623044082814, 'min_child_samples': 57, 'learning_rate': 0.023549103933255686, 'n_estimators': 585, 'walk_number': 20, 'walk_length': 47, 'dimensions': 39, 'window_size': 4, 'epochs': 8}. Best is trial 6 with value: 0.7260034904013961.\u001B[0m\n",
      "\u001B[32m[I 2022-03-29 11:52:20,996]\u001B[0m Trial 20 finished with value: 0.7144851657940663 and parameters: {'boosting_type': 'gbdt', 'reg_alpha': 2.360210918565647e-05, 'reg_lambda': 1.3281176162981793e-07, 'num_leaves': 256, 'colsample_bytree': 0.8030318244793135, 'min_child_samples': 49, 'learning_rate': 0.01013390329030153, 'n_estimators': 1199, 'walk_number': 10, 'walk_length': 32, 'dimensions': 117, 'window_size': 8, 'epochs': 5}. Best is trial 6 with value: 0.7260034904013961.\u001B[0m\n",
      "\u001B[32m[I 2022-03-29 11:53:19,011]\u001B[0m Trial 21 finished with value: 0.7225130890052356 and parameters: {'boosting_type': 'gbdt', 'reg_alpha': 2.316796117509505e-07, 'reg_lambda': 1.1783338503213877e-08, 'num_leaves': 219, 'colsample_bytree': 0.4761372959774527, 'min_child_samples': 27, 'learning_rate': 0.059319748722607715, 'n_estimators': 1377, 'walk_number': 18, 'walk_length': 30, 'dimensions': 68, 'window_size': 8, 'epochs': 9}. Best is trial 6 with value: 0.7260034904013961.\u001B[0m\n",
      "\u001B[32m[I 2022-03-29 11:54:09,648]\u001B[0m Trial 22 finished with value: 0.7260034904013961 and parameters: {'boosting_type': 'gbdt', 'reg_alpha': 7.194224804380085e-08, 'reg_lambda': 3.601281115245997e-08, 'num_leaves': 211, 'colsample_bytree': 0.5019815297720938, 'min_child_samples': 30, 'learning_rate': 0.11582329010141905, 'n_estimators': 1331, 'walk_number': 20, 'walk_length': 26, 'dimensions': 51, 'window_size': 7, 'epochs': 10}. Best is trial 6 with value: 0.7260034904013961.\u001B[0m\n",
      "\u001B[32m[I 2022-03-29 11:54:35,254]\u001B[0m Trial 23 finished with value: 0.7267015706806282 and parameters: {'boosting_type': 'gbdt', 'reg_alpha': 4.689381792109312e-08, 'reg_lambda': 5.893289756707434e-08, 'num_leaves': 256, 'colsample_bytree': 0.4967081207475394, 'min_child_samples': 15, 'learning_rate': 0.11422438522849739, 'n_estimators': 1981, 'walk_number': 12, 'walk_length': 10, 'dimensions': 50, 'window_size': 7, 'epochs': 10}. Best is trial 23 with value: 0.7267015706806282.\u001B[0m\n",
      "\u001B[32m[I 2022-03-29 11:54:57,192]\u001B[0m Trial 24 finished with value: 0.7183246073298429 and parameters: {'boosting_type': 'gbdt', 'reg_alpha': 3.397321971179843e-06, 'reg_lambda': 7.172968686761765e-08, 'num_leaves': 254, 'colsample_bytree': 0.5007487602000648, 'min_child_samples': 32, 'learning_rate': 0.129180892482071, 'n_estimators': 1957, 'walk_number': 13, 'walk_length': 10, 'dimensions': 51, 'window_size': 7, 'epochs': 10}. Best is trial 23 with value: 0.7267015706806282.\u001B[0m\n",
      "\u001B[32m[I 2022-03-29 11:55:25,108]\u001B[0m Trial 25 finished with value: 0.7099476439790576 and parameters: {'boosting_type': 'gbdt', 'reg_alpha': 5.173047466219942e-08, 'reg_lambda': 1.121729826067714e-06, 'num_leaves': 213, 'colsample_bytree': 0.5853105660103531, 'min_child_samples': 17, 'learning_rate': 0.28905096142930226, 'n_estimators': 2988, 'walk_number': 12, 'walk_length': 24, 'dimensions': 34, 'window_size': 5, 'epochs': 10}. Best is trial 23 with value: 0.7267015706806282.\u001B[0m\n",
      "\u001B[32m[I 2022-03-29 11:55:45,868]\u001B[0m Trial 26 finished with value: 0.7109947643979058 and parameters: {'boosting_type': 'goss', 'reg_alpha': 2.7191066526895686e-06, 'reg_lambda': 3.9902891502427074e-08, 'num_leaves': 243, 'colsample_bytree': 0.40797666276374156, 'min_child_samples': 12, 'learning_rate': 0.20816233799656056, 'n_estimators': 2140, 'walk_number': 20, 'walk_length': 10, 'dimensions': 51, 'window_size': 6, 'epochs': 8}. Best is trial 23 with value: 0.7267015706806282.\u001B[0m\n",
      "\u001B[32m[I 2022-03-29 11:56:07,975]\u001B[0m Trial 27 finished with value: 0.7137870855148342 and parameters: {'boosting_type': 'gbdt', 'reg_alpha': 4.5491226524063314e-08, 'reg_lambda': 2.415160859029991e-06, 'num_leaves': 208, 'colsample_bytree': 0.45630941948848164, 'min_child_samples': 22, 'learning_rate': 0.11052336649226072, 'n_estimators': 900, 'walk_number': 16, 'walk_length': 21, 'dimensions': 47, 'window_size': 7, 'epochs': 1}. Best is trial 23 with value: 0.7267015706806282.\u001B[0m\n",
      "\u001B[32m[I 2022-03-29 11:56:51,097]\u001B[0m Trial 28 finished with value: 0.7207678883071553 and parameters: {'boosting_type': 'gbdt', 'reg_alpha': 3.7478755323164586e-06, 'reg_lambda': 3.539447578654782e-07, 'num_leaves': 252, 'colsample_bytree': 0.5038648963125483, 'min_child_samples': 70, 'learning_rate': 0.3667643723332738, 'n_estimators': 1609, 'walk_number': 11, 'walk_length': 55, 'dimensions': 32, 'window_size': 1, 'epochs': 10}. Best is trial 23 with value: 0.7267015706806282.\u001B[0m\n",
      "\u001B[32m[I 2022-03-29 11:57:47,987]\u001B[0m Trial 29 finished with value: 0.7270506108202444 and parameters: {'boosting_type': 'gbdt', 'reg_alpha': 0.00011783704582339319, 'reg_lambda': 9.789641091869597e-06, 'num_leaves': 150, 'colsample_bytree': 0.5837416285607783, 'min_child_samples': 40, 'learning_rate': 0.0823558007306339, 'n_estimators': 1038, 'walk_number': 8, 'walk_length': 121, 'dimensions': 79, 'window_size': 6, 'epochs': 4}. Best is trial 29 with value: 0.7270506108202444.\u001B[0m\n",
      "\u001B[32m[I 2022-03-29 11:58:34,943]\u001B[0m Trial 30 finished with value: 0.7109947643979058 and parameters: {'boosting_type': 'gbdt', 'reg_alpha': 0.00010101583488260667, 'reg_lambda': 9.165761062813251e-05, 'num_leaves': 150, 'colsample_bytree': 0.5756404707580882, 'min_child_samples': 41, 'learning_rate': 0.062170072850146474, 'n_estimators': 1128, 'walk_number': 7, 'walk_length': 119, 'dimensions': 76, 'window_size': 5, 'epochs': 4}. Best is trial 29 with value: 0.7270506108202444.\u001B[0m\n",
      "\u001B[32m[I 2022-03-29 11:59:14,939]\u001B[0m Trial 31 finished with value: 0.7228621291448517 and parameters: {'boosting_type': 'gbdt', 'reg_alpha': 1.7526911451083371, 'reg_lambda': 1.5037159470605705e-05, 'num_leaves': 234, 'colsample_bytree': 0.5080114770283136, 'min_child_samples': 33, 'learning_rate': 0.09261463717632325, 'n_estimators': 665, 'walk_number': 9, 'walk_length': 97, 'dimensions': 61, 'window_size': 6, 'epochs': 3}. Best is trial 29 with value: 0.7270506108202444.\u001B[0m\n",
      "\u001B[32m[I 2022-03-29 11:59:29,908]\u001B[0m Trial 32 finished with value: 0.7211169284467713 and parameters: {'boosting_type': 'gbdt', 'reg_alpha': 5.960103578263477e-08, 'reg_lambda': 9.538054134407512e-06, 'num_leaves': 166, 'colsample_bytree': 0.6592897134481313, 'min_child_samples': 49, 'learning_rate': 0.2297592938608708, 'n_estimators': 1017, 'walk_number': 9, 'walk_length': 10, 'dimensions': 80, 'window_size': 7, 'epochs': 5}. Best is trial 29 with value: 0.7270506108202444.\u001B[0m\n",
      "\u001B[32m[I 2022-03-29 11:59:45,357]\u001B[0m Trial 33 finished with value: 0.7047120418848167 and parameters: {'boosting_type': 'gbdt', 'reg_alpha': 0.003430085440447283, 'reg_lambda': 7.773382343460004e-07, 'num_leaves': 195, 'colsample_bytree': 0.571032424825542, 'min_child_samples': 21, 'learning_rate': 0.48042907058638307, 'n_estimators': 1798, 'walk_number': 8, 'walk_length': 39, 'dimensions': 55, 'window_size': 6, 'epochs': 3}. Best is trial 29 with value: 0.7270506108202444.\u001B[0m\n",
      "\u001B[32m[I 2022-03-29 12:01:02,901]\u001B[0m Trial 34 finished with value: 0.7120418848167539 and parameters: {'boosting_type': 'gbdt', 'reg_alpha': 0.019774511059740225, 'reg_lambda': 6.40510750971011e-08, 'num_leaves': 135, 'colsample_bytree': 0.5342947790415056, 'min_child_samples': 42, 'learning_rate': 0.12208166282894516, 'n_estimators': 2457, 'walk_number': 11, 'walk_length': 124, 'dimensions': 41, 'window_size': 7, 'epochs': 6}. Best is trial 29 with value: 0.7270506108202444.\u001B[0m\n",
      "\u001B[32m[I 2022-03-29 12:01:29,509]\u001B[0m Trial 35 finished with value: 0.7137870855148342 and parameters: {'boosting_type': 'dart', 'reg_alpha': 0.00013807232880347204, 'reg_lambda': 3.6673209554249818e-06, 'num_leaves': 208, 'colsample_bytree': 0.4015398512235375, 'min_child_samples': 30, 'learning_rate': 0.15774145228516062, 'n_estimators': 696, 'walk_number': 9, 'walk_length': 19, 'dimensions': 66, 'window_size': 7, 'epochs': 3}. Best is trial 29 with value: 0.7270506108202444.\u001B[0m\n",
      "\u001B[32m[I 2022-03-29 12:02:44,339]\u001B[0m Trial 36 finished with value: 0.7169284467713787 and parameters: {'boosting_type': 'gbdt', 'reg_alpha': 1.0547328163575767e-05, 'reg_lambda': 2.0377248154192287e-07, 'num_leaves': 166, 'colsample_bytree': 0.48782773743998276, 'min_child_samples': 11, 'learning_rate': 0.030039871126591275, 'n_estimators': 1364, 'walk_number': 14, 'walk_length': 68, 'dimensions': 82, 'window_size': 5, 'epochs': 7}. Best is trial 29 with value: 0.7270506108202444.\u001B[0m\n",
      "\u001B[32m[I 2022-03-29 12:03:02,456]\u001B[0m Trial 37 finished with value: 0.6980802792321117 and parameters: {'boosting_type': 'goss', 'reg_alpha': 0.0008069292659360336, 'reg_lambda': 3.78045378061447e-05, 'num_leaves': 225, 'colsample_bytree': 0.4415646914075497, 'min_child_samples': 36, 'learning_rate': 0.06941740352809282, 'n_estimators': 473, 'walk_number': 10, 'walk_length': 35, 'dimensions': 46, 'window_size': 6, 'epochs': 4}. Best is trial 29 with value: 0.7270506108202444.\u001B[0m\n",
      "\u001B[32m[I 2022-03-29 12:03:15,814]\u001B[0m Trial 38 finished with value: 0.6921465968586388 and parameters: {'boosting_type': 'gbdt', 'reg_alpha': 1.0666245044743296e-06, 'reg_lambda': 0.00018633905136434777, 'num_leaves': 245, 'colsample_bytree': 0.5228632087362441, 'min_child_samples': 21, 'learning_rate': 0.9769071093383035, 'n_estimators': 750, 'walk_number': 7, 'walk_length': 26, 'dimensions': 101, 'window_size': 7, 'epochs': 5}. Best is trial 29 with value: 0.7270506108202444.\u001B[0m\n",
      "\u001B[32m[I 2022-03-29 12:03:47,534]\u001B[0m Trial 39 finished with value: 0.7228621291448517 and parameters: {'boosting_type': 'dart', 'reg_alpha': 1.0113000064239256e-07, 'reg_lambda': 5.604179471415192e-07, 'num_leaves': 180, 'colsample_bytree': 0.662777354223724, 'min_child_samples': 53, 'learning_rate': 0.015379830130083533, 'n_estimators': 977, 'walk_number': 5, 'walk_length': 14, 'dimensions': 92, 'window_size': 8, 'epochs': 9}. Best is trial 29 with value: 0.7270506108202444.\u001B[0m\n",
      "\u001B[32m[I 2022-03-29 12:05:05,883]\u001B[0m Trial 40 finished with value: 0.7270506108202444 and parameters: {'boosting_type': 'gbdt', 'reg_alpha': 2.1443755851031066e-08, 'reg_lambda': 1.1070938244394575e-05, 'num_leaves': 94, 'colsample_bytree': 0.5981217600527138, 'min_child_samples': 39, 'learning_rate': 0.049004660980433275, 'n_estimators': 2635, 'walk_number': 12, 'walk_length': 96, 'dimensions': 73, 'window_size': 4, 'epochs': 7}. Best is trial 29 with value: 0.7270506108202444.\u001B[0m\n",
      "\u001B[32m[I 2022-03-29 12:06:30,189]\u001B[0m Trial 41 finished with value: 0.7169284467713787 and parameters: {'boosting_type': 'gbdt', 'reg_alpha': 1.7465060883748282e-08, 'reg_lambda': 1.7885472864951377e-05, 'num_leaves': 100, 'colsample_bytree': 0.5967197585388357, 'min_child_samples': 38, 'learning_rate': 0.04837324990258409, 'n_estimators': 2464, 'walk_number': 12, 'walk_length': 110, 'dimensions': 74, 'window_size': 3, 'epochs': 7}. Best is trial 29 with value: 0.7270506108202444.\u001B[0m\n",
      "\u001B[32m[I 2022-03-29 12:07:37,902]\u001B[0m Trial 42 finished with value: 0.7144851657940663 and parameters: {'boosting_type': 'gbdt', 'reg_alpha': 1.2444894795653572e-07, 'reg_lambda': 2.896568427876617e-08, 'num_leaves': 119, 'colsample_bytree': 0.5547939363961943, 'min_child_samples': 47, 'learning_rate': 0.09572530506323602, 'n_estimators': 1577, 'walk_number': 11, 'walk_length': 95, 'dimensions': 86, 'window_size': 4, 'epochs': 6}. Best is trial 29 with value: 0.7270506108202444.\u001B[0m\n"
     ]
    },
    {
     "ename": "KeyboardInterrupt",
     "evalue": "",
     "output_type": "error",
     "traceback": [
      "\u001B[0;31m---------------------------------------------------------------------------\u001B[0m",
      "\u001B[0;31mKeyboardInterrupt\u001B[0m                         Traceback (most recent call last)",
      "\u001B[0;32m/tmp/ipykernel_68943/4105511885.py\u001B[0m in \u001B[0;36m<module>\u001B[0;34m\u001B[0m\n\u001B[1;32m     41\u001B[0m \u001B[0;34m\u001B[0m\u001B[0m\n\u001B[1;32m     42\u001B[0m \u001B[0mstudy\u001B[0m \u001B[0;34m=\u001B[0m \u001B[0moptuna\u001B[0m\u001B[0;34m.\u001B[0m\u001B[0mcreate_study\u001B[0m\u001B[0;34m(\u001B[0m\u001B[0mdirection\u001B[0m\u001B[0;34m=\u001B[0m\u001B[0;34m'maximize'\u001B[0m\u001B[0;34m)\u001B[0m\u001B[0;34m\u001B[0m\u001B[0;34m\u001B[0m\u001B[0m\n\u001B[0;32m---> 43\u001B[0;31m \u001B[0mstudy\u001B[0m\u001B[0;34m.\u001B[0m\u001B[0moptimize\u001B[0m\u001B[0;34m(\u001B[0m\u001B[0mobjective\u001B[0m\u001B[0;34m,\u001B[0m \u001B[0mn_trials\u001B[0m\u001B[0;34m=\u001B[0m\u001B[0;36m100\u001B[0m\u001B[0;34m)\u001B[0m\u001B[0;34m\u001B[0m\u001B[0;34m\u001B[0m\u001B[0m\n\u001B[0m\u001B[1;32m     44\u001B[0m \u001B[0mtrial\u001B[0m \u001B[0;34m=\u001B[0m \u001B[0mstudy\u001B[0m\u001B[0;34m.\u001B[0m\u001B[0mbest_trial\u001B[0m\u001B[0;34m\u001B[0m\u001B[0;34m\u001B[0m\u001B[0m\n",
      "\u001B[0;32m~/anaconda3/envs/made/lib/python3.8/site-packages/optuna/study.py\u001B[0m in \u001B[0;36moptimize\u001B[0;34m(self, func, n_trials, timeout, n_jobs, catch, callbacks, gc_after_trial, show_progress_bar)\u001B[0m\n\u001B[1;32m    398\u001B[0m             )\n\u001B[1;32m    399\u001B[0m \u001B[0;34m\u001B[0m\u001B[0m\n\u001B[0;32m--> 400\u001B[0;31m         _optimize(\n\u001B[0m\u001B[1;32m    401\u001B[0m             \u001B[0mstudy\u001B[0m\u001B[0;34m=\u001B[0m\u001B[0mself\u001B[0m\u001B[0;34m,\u001B[0m\u001B[0;34m\u001B[0m\u001B[0;34m\u001B[0m\u001B[0m\n\u001B[1;32m    402\u001B[0m             \u001B[0mfunc\u001B[0m\u001B[0;34m=\u001B[0m\u001B[0mfunc\u001B[0m\u001B[0;34m,\u001B[0m\u001B[0;34m\u001B[0m\u001B[0;34m\u001B[0m\u001B[0m\n",
      "\u001B[0;32m~/anaconda3/envs/made/lib/python3.8/site-packages/optuna/_optimize.py\u001B[0m in \u001B[0;36m_optimize\u001B[0;34m(study, func, n_trials, timeout, n_jobs, catch, callbacks, gc_after_trial, show_progress_bar)\u001B[0m\n\u001B[1;32m     64\u001B[0m     \u001B[0;32mtry\u001B[0m\u001B[0;34m:\u001B[0m\u001B[0;34m\u001B[0m\u001B[0;34m\u001B[0m\u001B[0m\n\u001B[1;32m     65\u001B[0m         \u001B[0;32mif\u001B[0m \u001B[0mn_jobs\u001B[0m \u001B[0;34m==\u001B[0m \u001B[0;36m1\u001B[0m\u001B[0;34m:\u001B[0m\u001B[0;34m\u001B[0m\u001B[0;34m\u001B[0m\u001B[0m\n\u001B[0;32m---> 66\u001B[0;31m             _optimize_sequential(\n\u001B[0m\u001B[1;32m     67\u001B[0m                 \u001B[0mstudy\u001B[0m\u001B[0;34m,\u001B[0m\u001B[0;34m\u001B[0m\u001B[0;34m\u001B[0m\u001B[0m\n\u001B[1;32m     68\u001B[0m                 \u001B[0mfunc\u001B[0m\u001B[0;34m,\u001B[0m\u001B[0;34m\u001B[0m\u001B[0;34m\u001B[0m\u001B[0m\n",
      "\u001B[0;32m~/anaconda3/envs/made/lib/python3.8/site-packages/optuna/_optimize.py\u001B[0m in \u001B[0;36m_optimize_sequential\u001B[0;34m(study, func, n_trials, timeout, catch, callbacks, gc_after_trial, reseed_sampler_rng, time_start, progress_bar)\u001B[0m\n\u001B[1;32m    161\u001B[0m \u001B[0;34m\u001B[0m\u001B[0m\n\u001B[1;32m    162\u001B[0m         \u001B[0;32mtry\u001B[0m\u001B[0;34m:\u001B[0m\u001B[0;34m\u001B[0m\u001B[0;34m\u001B[0m\u001B[0m\n\u001B[0;32m--> 163\u001B[0;31m             \u001B[0mtrial\u001B[0m \u001B[0;34m=\u001B[0m \u001B[0m_run_trial\u001B[0m\u001B[0;34m(\u001B[0m\u001B[0mstudy\u001B[0m\u001B[0;34m,\u001B[0m \u001B[0mfunc\u001B[0m\u001B[0;34m,\u001B[0m \u001B[0mcatch\u001B[0m\u001B[0;34m)\u001B[0m\u001B[0;34m\u001B[0m\u001B[0;34m\u001B[0m\u001B[0m\n\u001B[0m\u001B[1;32m    164\u001B[0m         \u001B[0;32mexcept\u001B[0m \u001B[0mException\u001B[0m\u001B[0;34m:\u001B[0m\u001B[0;34m\u001B[0m\u001B[0;34m\u001B[0m\u001B[0m\n\u001B[1;32m    165\u001B[0m             \u001B[0;32mraise\u001B[0m\u001B[0;34m\u001B[0m\u001B[0;34m\u001B[0m\u001B[0m\n",
      "\u001B[0;32m~/anaconda3/envs/made/lib/python3.8/site-packages/optuna/_optimize.py\u001B[0m in \u001B[0;36m_run_trial\u001B[0;34m(study, func, catch)\u001B[0m\n\u001B[1;32m    215\u001B[0m \u001B[0;34m\u001B[0m\u001B[0m\n\u001B[1;32m    216\u001B[0m     \u001B[0;32mtry\u001B[0m\u001B[0;34m:\u001B[0m\u001B[0;34m\u001B[0m\u001B[0;34m\u001B[0m\u001B[0m\n\u001B[0;32m--> 217\u001B[0;31m         \u001B[0mvalue_or_values\u001B[0m \u001B[0;34m=\u001B[0m \u001B[0mfunc\u001B[0m\u001B[0;34m(\u001B[0m\u001B[0mtrial\u001B[0m\u001B[0;34m)\u001B[0m\u001B[0;34m\u001B[0m\u001B[0;34m\u001B[0m\u001B[0m\n\u001B[0m\u001B[1;32m    218\u001B[0m     \u001B[0;32mexcept\u001B[0m \u001B[0mexceptions\u001B[0m\u001B[0;34m.\u001B[0m\u001B[0mTrialPruned\u001B[0m \u001B[0;32mas\u001B[0m \u001B[0me\u001B[0m\u001B[0;34m:\u001B[0m\u001B[0;34m\u001B[0m\u001B[0;34m\u001B[0m\u001B[0m\n\u001B[1;32m    219\u001B[0m         \u001B[0;31m# TODO(mamu): Handle multi-objective cases.\u001B[0m\u001B[0;34m\u001B[0m\u001B[0;34m\u001B[0m\u001B[0;34m\u001B[0m\u001B[0m\n",
      "\u001B[0;32m/tmp/ipykernel_68943/4105511885.py\u001B[0m in \u001B[0;36mobjective\u001B[0;34m(trial)\u001B[0m\n\u001B[1;32m     26\u001B[0m     }\n\u001B[1;32m     27\u001B[0m     \u001B[0mgraph_model\u001B[0m \u001B[0;34m=\u001B[0m \u001B[0mkarateclub\u001B[0m\u001B[0;34m.\u001B[0m\u001B[0mDeepWalk\u001B[0m\u001B[0;34m(\u001B[0m\u001B[0;34m**\u001B[0m\u001B[0mgraph_params\u001B[0m\u001B[0;34m)\u001B[0m\u001B[0;34m\u001B[0m\u001B[0;34m\u001B[0m\u001B[0m\n\u001B[0;32m---> 28\u001B[0;31m     \u001B[0mgraph_model\u001B[0m\u001B[0;34m.\u001B[0m\u001B[0mfit\u001B[0m\u001B[0;34m(\u001B[0m\u001B[0mgraph\u001B[0m\u001B[0;34m)\u001B[0m\u001B[0;34m\u001B[0m\u001B[0;34m\u001B[0m\u001B[0m\n\u001B[0m\u001B[1;32m     29\u001B[0m     \u001B[0memb\u001B[0m \u001B[0;34m=\u001B[0m \u001B[0mgraph_model\u001B[0m\u001B[0;34m.\u001B[0m\u001B[0mget_embedding\u001B[0m\u001B[0;34m(\u001B[0m\u001B[0;34m)\u001B[0m\u001B[0;34m\u001B[0m\u001B[0;34m\u001B[0m\u001B[0m\n\u001B[1;32m     30\u001B[0m     \u001B[0mtrain_emb\u001B[0m \u001B[0;34m=\u001B[0m \u001B[0mlp\u001B[0m\u001B[0;34m.\u001B[0m\u001B[0mhadamard_operator\u001B[0m\u001B[0;34m(\u001B[0m\u001B[0msubG\u001B[0m\u001B[0;34m,\u001B[0m \u001B[0memb\u001B[0m\u001B[0;34m,\u001B[0m \u001B[0mtrain_edges\u001B[0m\u001B[0;34m)\u001B[0m\u001B[0;34m\u001B[0m\u001B[0;34m\u001B[0m\u001B[0m\n",
      "\u001B[0;32m~/anaconda3/envs/made/lib/python3.8/site-packages/karateclub/node_embedding/neighbourhood/deepwalk.py\u001B[0m in \u001B[0;36mfit\u001B[0;34m(self, graph)\u001B[0m\n\u001B[1;32m     58\u001B[0m         \u001B[0mgraph\u001B[0m \u001B[0;34m=\u001B[0m \u001B[0mself\u001B[0m\u001B[0;34m.\u001B[0m\u001B[0m_check_graph\u001B[0m\u001B[0;34m(\u001B[0m\u001B[0mgraph\u001B[0m\u001B[0;34m)\u001B[0m\u001B[0;34m\u001B[0m\u001B[0;34m\u001B[0m\u001B[0m\n\u001B[1;32m     59\u001B[0m         \u001B[0mwalker\u001B[0m \u001B[0;34m=\u001B[0m \u001B[0mRandomWalker\u001B[0m\u001B[0;34m(\u001B[0m\u001B[0mself\u001B[0m\u001B[0;34m.\u001B[0m\u001B[0mwalk_length\u001B[0m\u001B[0;34m,\u001B[0m \u001B[0mself\u001B[0m\u001B[0;34m.\u001B[0m\u001B[0mwalk_number\u001B[0m\u001B[0;34m)\u001B[0m\u001B[0;34m\u001B[0m\u001B[0;34m\u001B[0m\u001B[0m\n\u001B[0;32m---> 60\u001B[0;31m         \u001B[0mwalker\u001B[0m\u001B[0;34m.\u001B[0m\u001B[0mdo_walks\u001B[0m\u001B[0;34m(\u001B[0m\u001B[0mgraph\u001B[0m\u001B[0;34m)\u001B[0m\u001B[0;34m\u001B[0m\u001B[0;34m\u001B[0m\u001B[0m\n\u001B[0m\u001B[1;32m     61\u001B[0m \u001B[0;34m\u001B[0m\u001B[0m\n\u001B[1;32m     62\u001B[0m         model = Word2Vec(\n",
      "\u001B[0;32m~/anaconda3/envs/made/lib/python3.8/site-packages/karateclub/utils/walker.py\u001B[0m in \u001B[0;36mdo_walks\u001B[0;34m(self, graph)\u001B[0m\n\u001B[1;32m     49\u001B[0m         \u001B[0;32mfor\u001B[0m \u001B[0mnode\u001B[0m \u001B[0;32min\u001B[0m \u001B[0mself\u001B[0m\u001B[0;34m.\u001B[0m\u001B[0mgraph\u001B[0m\u001B[0;34m.\u001B[0m\u001B[0mnodes\u001B[0m\u001B[0;34m(\u001B[0m\u001B[0;34m)\u001B[0m\u001B[0;34m:\u001B[0m\u001B[0;34m\u001B[0m\u001B[0;34m\u001B[0m\u001B[0m\n\u001B[1;32m     50\u001B[0m             \u001B[0;32mfor\u001B[0m \u001B[0m_\u001B[0m \u001B[0;32min\u001B[0m \u001B[0mrange\u001B[0m\u001B[0;34m(\u001B[0m\u001B[0mself\u001B[0m\u001B[0;34m.\u001B[0m\u001B[0mwalk_number\u001B[0m\u001B[0;34m)\u001B[0m\u001B[0;34m:\u001B[0m\u001B[0;34m\u001B[0m\u001B[0;34m\u001B[0m\u001B[0m\n\u001B[0;32m---> 51\u001B[0;31m                 \u001B[0mwalk_from_node\u001B[0m \u001B[0;34m=\u001B[0m \u001B[0mself\u001B[0m\u001B[0;34m.\u001B[0m\u001B[0mdo_walk\u001B[0m\u001B[0;34m(\u001B[0m\u001B[0mnode\u001B[0m\u001B[0;34m)\u001B[0m\u001B[0;34m\u001B[0m\u001B[0;34m\u001B[0m\u001B[0m\n\u001B[0m\u001B[1;32m     52\u001B[0m                 \u001B[0mself\u001B[0m\u001B[0;34m.\u001B[0m\u001B[0mwalks\u001B[0m\u001B[0;34m.\u001B[0m\u001B[0mappend\u001B[0m\u001B[0;34m(\u001B[0m\u001B[0mwalk_from_node\u001B[0m\u001B[0;34m)\u001B[0m\u001B[0;34m\u001B[0m\u001B[0;34m\u001B[0m\u001B[0m\n\u001B[1;32m     53\u001B[0m \u001B[0;34m\u001B[0m\u001B[0m\n",
      "\u001B[0;32m~/anaconda3/envs/made/lib/python3.8/site-packages/karateclub/utils/walker.py\u001B[0m in \u001B[0;36mdo_walk\u001B[0;34m(self, node)\u001B[0m\n\u001B[1;32m     32\u001B[0m         \u001B[0mwalk\u001B[0m \u001B[0;34m=\u001B[0m \u001B[0;34m[\u001B[0m\u001B[0mnode\u001B[0m\u001B[0;34m]\u001B[0m\u001B[0;34m\u001B[0m\u001B[0;34m\u001B[0m\u001B[0m\n\u001B[1;32m     33\u001B[0m         \u001B[0;32mfor\u001B[0m \u001B[0m_\u001B[0m \u001B[0;32min\u001B[0m \u001B[0mrange\u001B[0m\u001B[0;34m(\u001B[0m\u001B[0mself\u001B[0m\u001B[0;34m.\u001B[0m\u001B[0mwalk_length\u001B[0m \u001B[0;34m-\u001B[0m \u001B[0;36m1\u001B[0m\u001B[0;34m)\u001B[0m\u001B[0;34m:\u001B[0m\u001B[0;34m\u001B[0m\u001B[0;34m\u001B[0m\u001B[0m\n\u001B[0;32m---> 34\u001B[0;31m             \u001B[0mnebs\u001B[0m \u001B[0;34m=\u001B[0m \u001B[0;34m[\u001B[0m\u001B[0mnode\u001B[0m \u001B[0;32mfor\u001B[0m \u001B[0mnode\u001B[0m \u001B[0;32min\u001B[0m \u001B[0mself\u001B[0m\u001B[0;34m.\u001B[0m\u001B[0mgraph\u001B[0m\u001B[0;34m.\u001B[0m\u001B[0mneighbors\u001B[0m\u001B[0;34m(\u001B[0m\u001B[0mwalk\u001B[0m\u001B[0;34m[\u001B[0m\u001B[0;34m-\u001B[0m\u001B[0;36m1\u001B[0m\u001B[0;34m]\u001B[0m\u001B[0;34m)\u001B[0m\u001B[0;34m]\u001B[0m\u001B[0;34m\u001B[0m\u001B[0;34m\u001B[0m\u001B[0m\n\u001B[0m\u001B[1;32m     35\u001B[0m             \u001B[0;32mif\u001B[0m \u001B[0mlen\u001B[0m\u001B[0;34m(\u001B[0m\u001B[0mnebs\u001B[0m\u001B[0;34m)\u001B[0m \u001B[0;34m>\u001B[0m \u001B[0;36m0\u001B[0m\u001B[0;34m:\u001B[0m\u001B[0;34m\u001B[0m\u001B[0;34m\u001B[0m\u001B[0m\n\u001B[1;32m     36\u001B[0m                 \u001B[0mwalk\u001B[0m \u001B[0;34m=\u001B[0m \u001B[0mwalk\u001B[0m \u001B[0;34m+\u001B[0m \u001B[0mrandom\u001B[0m\u001B[0;34m.\u001B[0m\u001B[0msample\u001B[0m\u001B[0;34m(\u001B[0m\u001B[0mnebs\u001B[0m\u001B[0;34m,\u001B[0m \u001B[0;36m1\u001B[0m\u001B[0;34m)\u001B[0m\u001B[0;34m\u001B[0m\u001B[0;34m\u001B[0m\u001B[0m\n",
      "\u001B[0;32m~/anaconda3/envs/made/lib/python3.8/site-packages/networkx/classes/graph.py\u001B[0m in \u001B[0;36mneighbors\u001B[0;34m(self, n)\u001B[0m\n\u001B[1;32m   1251\u001B[0m         \"\"\"\n\u001B[1;32m   1252\u001B[0m         \u001B[0;32mtry\u001B[0m\u001B[0;34m:\u001B[0m\u001B[0;34m\u001B[0m\u001B[0;34m\u001B[0m\u001B[0m\n\u001B[0;32m-> 1253\u001B[0;31m             \u001B[0;32mreturn\u001B[0m \u001B[0miter\u001B[0m\u001B[0;34m(\u001B[0m\u001B[0mself\u001B[0m\u001B[0;34m.\u001B[0m\u001B[0m_adj\u001B[0m\u001B[0;34m[\u001B[0m\u001B[0mn\u001B[0m\u001B[0;34m]\u001B[0m\u001B[0;34m)\u001B[0m\u001B[0;34m\u001B[0m\u001B[0;34m\u001B[0m\u001B[0m\n\u001B[0m\u001B[1;32m   1254\u001B[0m         \u001B[0;32mexcept\u001B[0m \u001B[0mKeyError\u001B[0m \u001B[0;32mas\u001B[0m \u001B[0me\u001B[0m\u001B[0;34m:\u001B[0m\u001B[0;34m\u001B[0m\u001B[0;34m\u001B[0m\u001B[0m\n\u001B[1;32m   1255\u001B[0m             \u001B[0;32mraise\u001B[0m \u001B[0mNetworkXError\u001B[0m\u001B[0;34m(\u001B[0m\u001B[0;34mf\"The node {n} is not in the graph.\"\u001B[0m\u001B[0;34m)\u001B[0m \u001B[0;32mfrom\u001B[0m \u001B[0me\u001B[0m\u001B[0;34m\u001B[0m\u001B[0;34m\u001B[0m\u001B[0m\n",
      "\u001B[0;31mKeyboardInterrupt\u001B[0m: "
     ]
    }
   ],
   "source": [
    "import optuna\n",
    "import lightgbm as lgb\n",
    "\n",
    "\n",
    "def objective(trial):\n",
    "    lgb_params = {\n",
    "        'objective': 'binary',\n",
    "        'metric': 'binary_logloss',\n",
    "        'verbosity': -1,\n",
    "        'boosting_type': trial.suggest_categorical('boosting_type', ['gbdt', 'goss', 'dart']),\n",
    "        'reg_alpha': trial.suggest_float('reg_alpha', 1e-8, 10.0, log=True),\n",
    "        'reg_lambda': trial.suggest_float('reg_lambda', 1e-8, 10.0, log=True),\n",
    "        'num_leaves': trial.suggest_int('num_leaves', 2, 256),\n",
    "        'colsample_bytree': trial.suggest_float('colsample_bytree', 0.4, 1.0),\n",
    "        'min_child_samples': trial.suggest_int('min_child_samples', 5, 100),\n",
    "        'learning_rate': trial.suggest_float('learning_rate', 0.01, 1.0, log=True),\n",
    "        'n_estimators': trial.suggest_int('n_estimators', 100, 3000, log=True)\n",
    "    }\n",
    "    graph_params = {\n",
    "        'walk_number': trial.suggest_int('walk_number', 5, 20),\n",
    "        'walk_length': trial.suggest_int('walk_length', 10, 128),\n",
    "        'dimensions': trial.suggest_int('dimensions', 32, 128),\n",
    "        'window_size': trial.suggest_int('window_size', 1, 8),\n",
    "        'epochs': trial.suggest_int('epochs', 1, 10),\n",
    "        'workers': 12\n",
    "    }\n",
    "    graph_model = karateclub.DeepWalk(**graph_params)\n",
    "    graph_model.fit(graph)\n",
    "    emb = graph_model.get_embedding()\n",
    "    train_emb = lp.hadamard_operator(subG, emb, train_edges)\n",
    "    test_emb = lp.hadamard_operator(subG, emb, test_edges)\n",
    "    train_edge_emb = np.hstack((train_emb, train_node_emb))\n",
    "    test_edge_emb = np.hstack((test_emb, test_node_emb))\n",
    "\n",
    "    lgb_model = lgb.LGBMClassifier(**lgb_params)\n",
    "    lgb_model.fit(train_edge_emb, train_labels)\n",
    "    preds = lgb_model.predict(test_edge_emb).astype(int)\n",
    "    accuracy = accuracy_score(test_labels, preds)\n",
    "    return accuracy\n",
    "\n",
    "\n",
    "study = optuna.create_study(direction='maximize')\n",
    "study.optimize(objective, n_trials=100)\n",
    "trial = study.best_trial"
   ],
   "metadata": {
    "collapsed": false,
    "pycharm": {
     "name": "#%%\n"
    }
   }
  },
  {
   "cell_type": "code",
   "execution_count": 51,
   "outputs": [],
   "source": [
    "lgb_params = {\n",
    "    'boosting_type': 'gbdt',\n",
    "    'reg_alpha': 0.00011783704582339319,\n",
    "    'reg_lambda': 9.789641091869597e-06,\n",
    "    'num_leaves': 150,\n",
    "    'colsample_bytree': 0.5837416285607783,\n",
    "    'min_child_samples': 40,\n",
    "    'learning_rate': 0.0823558007306339,\n",
    "    'n_estimators': 1038,\n",
    "    'objective': 'binary',\n",
    "    'metric': 'binary_logloss',\n",
    "    'verbosity': -1,\n",
    "}\n",
    "graph_params = {\n",
    "    'walk_number': 8,\n",
    "    'walk_length': 121,\n",
    "    'dimensions': 79,\n",
    "    'window_size': 6,\n",
    "    'epochs': 4,\n",
    "    'workers': 12\n",
    "}"
   ],
   "metadata": {
    "collapsed": false,
    "pycharm": {
     "name": "#%%\n"
    }
   }
  },
  {
   "cell_type": "code",
   "execution_count": 54,
   "outputs": [],
   "source": [
    "import pandas as pd\n",
    "G, node_emb = lp.load_initial_graph()\n",
    "positive_edges = list(G.edges)\n",
    "negative_edges = lp.negative_sampling(G)\n",
    "new_train_edges = positive_edges + negative_edges\n",
    "positive_label = np.ones(len(positive_edges))\n",
    "negative_label = np.zeros(len(negative_edges))\n",
    "new_labels = np.hstack((positive_label, negative_label))\n",
    "graph_model = karateclub.DeepWalk(**graph_params)\n",
    "graph_model.fit(G)\n",
    "emb = graph_model.get_embedding()\n",
    "train_emb = lp.hadamard_operator(G, np.hstack((emb, node_emb)), new_train_edges)\n",
    "un_emb = lp.hadamard_operator(G, np.hstack((emb, node_emb)), un_edges)\n",
    "lgb_model = lgb.LGBMClassifier(**lgb_params)\n",
    "lgb_model.fit(train_emb, new_labels)\n",
    "preds = lgb_model.predict(un_emb).astype(int)\n",
    "pd.Series(preds).to_csv('deepwalk_lgb_pred.txt', index=False, header=False)"
   ],
   "metadata": {
    "collapsed": false,
    "pycharm": {
     "name": "#%%\n"
    }
   }
  },
  {
   "cell_type": "code",
   "execution_count": 58,
   "outputs": [
    {
     "data": {
      "text/plain": "0.9643979057591623"
     },
     "execution_count": 58,
     "metadata": {},
     "output_type": "execute_result"
    }
   ],
   "source": [
    "test_emb = lp.hadamard_operator(G, np.hstack((emb, node_emb)), test_edges)\n",
    "preds = lgb_model.predict(test_emb).astype(int)\n",
    "accuracy_score(test_labels, preds)"
   ],
   "metadata": {
    "collapsed": false,
    "pycharm": {
     "name": "#%%\n"
    }
   }
  },
  {
   "cell_type": "code",
   "execution_count": null,
   "outputs": [],
   "source": [
    "test_emb = lp.hadamard_operator(subG, emb, test_edges)\n",
    "preds = lgb_model.predict(un_emb).astype(int)"
   ],
   "metadata": {
    "collapsed": false,
    "pycharm": {
     "name": "#%%\n"
    }
   }
  }
 ],
 "metadata": {
  "kernelspec": {
   "display_name": "Python 3",
   "language": "python",
   "name": "python3"
  },
  "language_info": {
   "codemirror_mode": {
    "name": "ipython",
    "version": 2
   },
   "file_extension": ".py",
   "mimetype": "text/x-python",
   "name": "python",
   "nbconvert_exporter": "python",
   "pygments_lexer": "ipython2",
   "version": "2.7.6"
  }
 },
 "nbformat": 4,
 "nbformat_minor": 0
}