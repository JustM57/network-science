{
 "cells": [
  {
   "cell_type": "markdown",
   "metadata": {
    "collapsed": true,
    "pycharm": {
     "name": "#%% md\n"
    }
   },
   "source": [
    "You are running the marketing campaign for a brand new pocket device. Initially you can sign contracts with a few people to advertize your gadget among their neigbours. The more \"famous\" person you are picking the greater price appears in the contract. Contract cost can be calculated as 300usd * NN(i), where NN(i) is the number of neigbours of the person i. If at least 18% a person's neighbors have already been affected, then he/she will also be affected tomorrow. You earn 50usd per each affected person. Every day you have to choose whether to sign new contracts or wait. You need time to discuss terms of a contract, so you cannot sign more than 10 contracts on the same day. Your task is to maximize profit of your campaign with an initial budget of 10,000usd. Your campaign is considered completed after 60 days.\n",
    "\n",
    "Again, all parameters of the task:\n",
    "Budget: 10,000usd\n",
    "Contract cost: 300usd * NN(i)\n",
    "Income per person: 50usd\n",
    "Exposure threshold: 18%\n",
    "Contracts limit: 10 per day\n",
    "Time limit: 60 days\n",
    "A model of society is based on undirected SNAP Facebook network edge_list.txt"
   ]
  },
  {
   "cell_type": "code",
   "execution_count": 1,
   "metadata": {
    "pycharm": {
     "name": "#%%\n"
    }
   },
   "outputs": [],
   "source": [
    "import networkx as nx\n",
    "import numpy as np\n",
    "from tqdm.notebook import tqdm\n",
    "import pandas as pd"
   ]
  },
  {
   "cell_type": "code",
   "execution_count": 2,
   "metadata": {
    "pycharm": {
     "name": "#%%\n"
    }
   },
   "outputs": [],
   "source": [
    "with open('edge_list.txt', 'r') as f:\n",
    "    edge_list = [list(map(int, line.split())) for line in f]"
   ]
  },
  {
   "cell_type": "code",
   "execution_count": 3,
   "metadata": {
    "pycharm": {
     "name": "#%%\n"
    }
   },
   "outputs": [],
   "source": [
    "G = nx.from_edgelist(edge_list)\n",
    "F = nx.convert_node_labels_to_integers(G)"
   ]
  },
  {
   "cell_type": "code",
   "execution_count": 6,
   "metadata": {
    "pycharm": {
     "name": "#%%\n"
    }
   },
   "outputs": [],
   "source": [
    "thresholds = 0.18 * np.ones(len(G.nodes))"
   ]
  },
  {
   "cell_type": "code",
   "execution_count": 67,
   "metadata": {
    "pycharm": {
     "name": "#%%\n"
    }
   },
   "outputs": [],
   "source": [
    "def linear_threshold(G, active_nodes, thresholds, n_steps):\n",
    "    simulation = [active_nodes]\n",
    "    steps = 0\n",
    "    while steps < n_steps:\n",
    "        new_active = active_nodes.copy()\n",
    "        for node in np.argwhere(active_nodes == 0):\n",
    "            node = node[0]\n",
    "            predecessors = np.array(G[node])\n",
    "            if not predecessors.shape[0]:\n",
    "                continue\n",
    "            if active_nodes[predecessors].sum() / predecessors.shape[0] >= thresholds[node]:\n",
    "                new_active[node] = 1\n",
    "        active_nodes = new_active.copy()\n",
    "        simulation.append(active_nodes)\n",
    "        steps += 1\n",
    "        if np.all(simulation[-1] == simulation[-2]):\n",
    "            steps = n_steps\n",
    "    return np.array(simulation)"
   ]
  },
  {
   "cell_type": "code",
   "execution_count": 79,
   "metadata": {
    "pycharm": {
     "name": "#%%\n"
    }
   },
   "outputs": [],
   "source": [
    "# baseline\n",
    "\n",
    "def greedy_influence_max(G, thresholds, active_nodes, top_nodes, degrees, our_money, current_profit, \n",
    "                         old_active, n_steps):\n",
    "    old_profit = current_profit\n",
    "    best = []\n",
    "    idx = 0\n",
    "    current_active = np.sum(linear_threshold(G, active_nodes, thresholds, 10)[-1])\n",
    "    current_profit += 50 * (current_active - old_active)\n",
    "    current_active = np.sum(linear_threshold(G, active_nodes, thresholds, n_steps)[-1])\n",
    "    while (idx < 10) and (our_money >= 0):\n",
    "        best_profit = 0\n",
    "        best_node = None\n",
    "        for node in tqdm(top_nodes):\n",
    "            if active_nodes[node] == 0:\n",
    "                price = 300 * degrees.loc[node]\n",
    "                if (price < our_money):\n",
    "                    active_nodes[node] = 1\n",
    "                    active_size = np.sum(linear_threshold(G, active_nodes, thresholds, n_steps)[-1])\n",
    "                    new_active = active_size - current_active\n",
    "                    profit = 50 * (new_active - 1) - price\n",
    "                    active_nodes[node] = 0\n",
    "                    if profit > best_profit:\n",
    "                        best_profit = profit\n",
    "                        best_node = node\n",
    "        if best_node is None:\n",
    "            break\n",
    "        active_nodes[best_node] = 1\n",
    "        current_active = np.sum(linear_threshold(G, active_nodes, thresholds, n_steps)[-1])\n",
    "        ### next 10\n",
    "        active_size = np.sum(linear_threshold(G, active_nodes, thresholds, 10)[-1])\n",
    "        new_active = active_size - current_active\n",
    "        profit = 50 * (new_active - 1) - price\n",
    "        current_profit += profit\n",
    "        print(best_node, current_profit, current_active)\n",
    "        our_money -= 300 * degrees.loc[best_node]\n",
    "        best.append(best_node)\n",
    "        idx += 1\n",
    "    our_money += current_profit - old_profit\n",
    "    active_nodes = linear_threshold(G, active_nodes, thresholds, 10)[-1]\n",
    "    current_active = np.sum(active_nodes)\n",
    "    return best, active_nodes, current_active, current_profit, our_money"
   ]
  },
  {
   "cell_type": "code",
   "execution_count": 69,
   "metadata": {
    "pycharm": {
     "name": "#%%\n"
    }
   },
   "outputs": [],
   "source": [
    "# best_start_nodes:\n",
    "\n",
    "def greedy_influence_score(G, thresholds, active, n_steps, our_money):\n",
    "    top_nodes = pd.Series(dict(G.degree())).sort_values(ascending=True)\n",
    "    active_nodes = active.copy()\n",
    "    current_active = np.sum(linear_threshold(G, active_nodes, thresholds, n_steps)[-1])\n",
    "    scores = np.zeros_like(active_nodes)\n",
    "    for node in tqdm(np.argwhere(active_nodes == 0)):\n",
    "        node = node[0]\n",
    "        price = 300 * top_nodes.loc[node]\n",
    "        if (price < our_money):\n",
    "            active_nodes[node] = 1\n",
    "            active_size = np.sum(linear_threshold(G, active_nodes, thresholds, n_steps)[-1])\n",
    "            new_active = active_size - current_active\n",
    "            profit = 50 * (new_active + 1) - price\n",
    "            active_nodes[node] = 0\n",
    "            scores[node] = profit\n",
    "    return scores"
   ]
  },
  {
   "cell_type": "code",
   "execution_count": 70,
   "metadata": {
    "pycharm": {
     "name": "#%%\n"
    }
   },
   "outputs": [],
   "source": [
    "def pipeline(F, thresholds, n_steps):\n",
    "    degrees = pd.Series(dict(F.degree())).sort_values(ascending=True)\n",
    "    active_nodes = np.zeros(len(F.nodes), dtype=int)\n",
    "    current_profit = 0\n",
    "    current_active = 0\n",
    "    our_money = 10000\n",
    "    all_best = []\n",
    "    for step in range(n_steps):\n",
    "        scores = greedy_influence_score(F, thresholds, active_nodes, 60 / n_steps, our_money)\n",
    "        top_nodes = pd.Series(scores)[pd.Series(scores) > 0].sort_values(ascending=False)[:100].index.tolist()\n",
    "        print(top_nodes)\n",
    "        best, active_nodes, current_active, current_profit, our_money = greedy_influence_max(F, thresholds, \n",
    "            active_nodes, top_nodes, degrees, our_money, current_profit, current_active, 60 / n_steps)\n",
    "        print(best, current_active, current_profit, our_money)\n",
    "        all_best.append(best)\n",
    "    return all_best"
   ]
  },
  {
   "cell_type": "code",
   "execution_count": 78,
   "metadata": {},
   "outputs": [
    {
     "data": {
      "application/vnd.jupyter.widget-view+json": {
       "model_id": "0ad4c7b93fe949a4af2642a8c8dde796",
       "version_major": 2,
       "version_minor": 0
      },
      "text/plain": [
       "  0%|          | 0/3953 [00:00<?, ?it/s]"
      ]
     },
     "metadata": {},
     "output_type": "display_data"
    },
    {
     "name": "stdout",
     "output_type": "stream",
     "text": [
      "[1782, 3380, 3377, 3378, 3375, 3376, 3373, 3384, 3371, 387, 3934, 1988, 388, 390, 1989, 3911, 3914, 3938, 3867, 1918, 1920, 3935, 2882, 1937, 1666, 3706, 3881, 1942, 1941, 400, 401, 402, 158, 434, 460, 3412, 3483, 3866, 423, 3880, 424, 3882, 3894, 1836, 386, 383]\n"
     ]
    },
    {
     "data": {
      "application/vnd.jupyter.widget-view+json": {
       "model_id": "f05719d7c50848ed8d903bd443efe3a4",
       "version_major": 2,
       "version_minor": 0
      },
      "text/plain": [
       "  0%|          | 0/46 [00:00<?, ?it/s]"
      ]
     },
     "metadata": {},
     "output_type": "display_data"
    },
    {
     "name": "stdout",
     "output_type": "stream",
     "text": [
      "1782 10750 312\n"
     ]
    },
    {
     "data": {
      "application/vnd.jupyter.widget-view+json": {
       "model_id": "0f1941d0c4814fc3bd156a60b0369747",
       "version_major": 2,
       "version_minor": 0
      },
      "text/plain": [
       "  0%|          | 0/46 [00:00<?, ?it/s]"
      ]
     },
     "metadata": {},
     "output_type": "display_data"
    },
    {
     "name": "stdout",
     "output_type": "stream",
     "text": [
      "3380 19950 533\n"
     ]
    },
    {
     "data": {
      "application/vnd.jupyter.widget-view+json": {
       "model_id": "05f5a2393a034c468c117c008a38683f",
       "version_major": 2,
       "version_minor": 0
      },
      "text/plain": [
       "  0%|          | 0/46 [00:00<?, ?it/s]"
      ]
     },
     "metadata": {},
     "output_type": "display_data"
    },
    {
     "name": "stdout",
     "output_type": "stream",
     "text": [
      "387 21550 602\n"
     ]
    },
    {
     "data": {
      "application/vnd.jupyter.widget-view+json": {
       "model_id": "102176f2045d4b7fb6653daf1595baa6",
       "version_major": 2,
       "version_minor": 0
      },
      "text/plain": [
       "  0%|          | 0/46 [00:00<?, ?it/s]"
      ]
     },
     "metadata": {},
     "output_type": "display_data"
    },
    {
     "name": "stdout",
     "output_type": "stream",
     "text": [
      "3934 23150 647\n"
     ]
    },
    {
     "data": {
      "application/vnd.jupyter.widget-view+json": {
       "model_id": "5761621054034e90878dac938b64306c",
       "version_major": 2,
       "version_minor": 0
      },
      "text/plain": [
       "  0%|          | 0/46 [00:00<?, ?it/s]"
      ]
     },
     "metadata": {},
     "output_type": "display_data"
    },
    {
     "name": "stdout",
     "output_type": "stream",
     "text": [
      "2882 24100 673\n"
     ]
    },
    {
     "data": {
      "application/vnd.jupyter.widget-view+json": {
       "model_id": "b773ce4ab88e4f0685a96fe868f70941",
       "version_major": 2,
       "version_minor": 0
      },
      "text/plain": [
       "  0%|          | 0/46 [00:00<?, ?it/s]"
      ]
     },
     "metadata": {},
     "output_type": "display_data"
    },
    {
     "name": "stdout",
     "output_type": "stream",
     "text": [
      "1937 24700 698\n"
     ]
    },
    {
     "data": {
      "application/vnd.jupyter.widget-view+json": {
       "model_id": "3824662fe0b242b0902705bd16e40876",
       "version_major": 2,
       "version_minor": 0
      },
      "text/plain": [
       "  0%|          | 0/46 [00:00<?, ?it/s]"
      ]
     },
     "metadata": {},
     "output_type": "display_data"
    },
    {
     "name": "stdout",
     "output_type": "stream",
     "text": [
      "[1782, 3380, 387, 3934, 2882, 1937] 698 24700 24800\n"
     ]
    },
    {
     "data": {
      "application/vnd.jupyter.widget-view+json": {
       "model_id": "4afaac9b317541b3ae7447ee9123065a",
       "version_major": 2,
       "version_minor": 0
      },
      "text/plain": [
       "  0%|          | 0/3255 [00:00<?, ?it/s]"
      ]
     },
     "metadata": {},
     "output_type": "display_data"
    },
    {
     "name": "stdout",
     "output_type": "stream",
     "text": [
      "[3323, 3706, 3214, 3202, 3204, 3708, 3195, 3193, 3196, 3707, 3190, 1067, 3203, 3206, 3179, 3191, 3170, 3148, 3198, 1759, 3183, 1821, 1809, 3185, 3182, 3187, 3168, 1532, 3181, 3184, 3186, 2509, 3188, 1394, 1808, 3160, 3189, 3867, 1920, 1918, 3881, 1941, 1942, 192, 460, 3866, 3483, 3880, 3882, 3894]\n"
     ]
    },
    {
     "data": {
      "application/vnd.jupyter.widget-view+json": {
       "model_id": "00058acbe87e4cb0a37724536e6b21ae",
       "version_major": 2,
       "version_minor": 0
      },
      "text/plain": [
       "  0%|          | 0/50 [00:00<?, ?it/s]"
      ]
     },
     "metadata": {},
     "output_type": "display_data"
    },
    {
     "name": "stdout",
     "output_type": "stream",
     "text": [
      "3323 36700 1382\n"
     ]
    },
    {
     "data": {
      "application/vnd.jupyter.widget-view+json": {
       "model_id": "f2f9ff1621ab4839b5821383613896b4",
       "version_major": 2,
       "version_minor": 0
      },
      "text/plain": [
       "  0%|          | 0/50 [00:00<?, ?it/s]"
      ]
     },
     "metadata": {},
     "output_type": "display_data"
    },
    {
     "name": "stdout",
     "output_type": "stream",
     "text": [
      "3706 47900 1655\n"
     ]
    },
    {
     "data": {
      "application/vnd.jupyter.widget-view+json": {
       "model_id": "eab03ac6c42947f39df971aedaee63a4",
       "version_major": 2,
       "version_minor": 0
      },
      "text/plain": [
       "  0%|          | 0/50 [00:00<?, ?it/s]"
      ]
     },
     "metadata": {},
     "output_type": "display_data"
    },
    {
     "name": "stdout",
     "output_type": "stream",
     "text": [
      "1067 57000 2060\n"
     ]
    },
    {
     "data": {
      "application/vnd.jupyter.widget-view+json": {
       "model_id": "a5e37671c497423d8309acbcebfd97b5",
       "version_major": 2,
       "version_minor": 0
      },
      "text/plain": [
       "  0%|          | 0/50 [00:00<?, ?it/s]"
      ]
     },
     "metadata": {},
     "output_type": "display_data"
    },
    {
     "name": "stdout",
     "output_type": "stream",
     "text": [
      "3867 57500 2089\n"
     ]
    },
    {
     "data": {
      "application/vnd.jupyter.widget-view+json": {
       "model_id": "699379cfbda9461abf93c2be8292af99",
       "version_major": 2,
       "version_minor": 0
      },
      "text/plain": [
       "  0%|          | 0/50 [00:00<?, ?it/s]"
      ]
     },
     "metadata": {},
     "output_type": "display_data"
    },
    {
     "name": "stdout",
     "output_type": "stream",
     "text": [
      "1920 58000 2106\n"
     ]
    },
    {
     "data": {
      "application/vnd.jupyter.widget-view+json": {
       "model_id": "5781f6fa832743a182b83d361ed23b50",
       "version_major": 2,
       "version_minor": 0
      },
      "text/plain": [
       "  0%|          | 0/50 [00:00<?, ?it/s]"
      ]
     },
     "metadata": {},
     "output_type": "display_data"
    },
    {
     "name": "stdout",
     "output_type": "stream",
     "text": [
      "3894 58200 2135\n"
     ]
    },
    {
     "data": {
      "application/vnd.jupyter.widget-view+json": {
       "model_id": "123d0a405b654f2c9c1306353fc2cc70",
       "version_major": 2,
       "version_minor": 0
      },
      "text/plain": [
       "  0%|          | 0/50 [00:00<?, ?it/s]"
      ]
     },
     "metadata": {},
     "output_type": "display_data"
    },
    {
     "name": "stdout",
     "output_type": "stream",
     "text": [
      "192 58350 2151\n"
     ]
    },
    {
     "data": {
      "application/vnd.jupyter.widget-view+json": {
       "model_id": "f7d27083410c4765b1bd30de61ad661d",
       "version_major": 2,
       "version_minor": 0
      },
      "text/plain": [
       "  0%|          | 0/50 [00:00<?, ?it/s]"
      ]
     },
     "metadata": {},
     "output_type": "display_data"
    },
    {
     "name": "stdout",
     "output_type": "stream",
     "text": [
      "460 58400 2159\n"
     ]
    },
    {
     "data": {
      "application/vnd.jupyter.widget-view+json": {
       "model_id": "a0c90414db82448489a9cfeb68d1f7a4",
       "version_major": 2,
       "version_minor": 0
      },
      "text/plain": [
       "  0%|          | 0/50 [00:00<?, ?it/s]"
      ]
     },
     "metadata": {},
     "output_type": "display_data"
    },
    {
     "name": "stdout",
     "output_type": "stream",
     "text": [
      "[3323, 3706, 1067, 3867, 1920, 3894, 192, 460] 2159 58400 38700\n"
     ]
    },
    {
     "data": {
      "application/vnd.jupyter.widget-view+json": {
       "model_id": "7b6849b9e5c44da69d5526a814b3c78c",
       "version_major": 2,
       "version_minor": 0
      },
      "text/plain": [
       "  0%|          | 0/1794 [00:00<?, ?it/s]"
      ]
     },
     "metadata": {},
     "output_type": "display_data"
    },
    {
     "name": "stdout",
     "output_type": "stream",
     "text": [
      "[806, 157, 87, 182, 154, 84, 235, 30, 120, 11, 78, 170, 202, 34, 731, 143, 129, 62, 782, 585, 36, 131, 9, 138, 91, 168, 54, 148, 2509, 98, 16, 119, 74]\n"
     ]
    },
    {
     "data": {
      "application/vnd.jupyter.widget-view+json": {
       "model_id": "fb80fca559ba4d90bcb026e173bbd9de",
       "version_major": 2,
       "version_minor": 0
      },
      "text/plain": [
       "  0%|          | 0/33 [00:00<?, ?it/s]"
      ]
     },
     "metadata": {},
     "output_type": "display_data"
    },
    {
     "name": "stdout",
     "output_type": "stream",
     "text": [
      "806 71850 2979\n"
     ]
    },
    {
     "data": {
      "application/vnd.jupyter.widget-view+json": {
       "model_id": "e96bb719a04c4a23a01e1afaa4093df2",
       "version_major": 2,
       "version_minor": 0
      },
      "text/plain": [
       "  0%|          | 0/33 [00:00<?, ?it/s]"
      ]
     },
     "metadata": {},
     "output_type": "display_data"
    },
    {
     "name": "stdout",
     "output_type": "stream",
     "text": [
      "157 80650 3180\n"
     ]
    },
    {
     "data": {
      "application/vnd.jupyter.widget-view+json": {
       "model_id": "fe1b5241e30c4a43bcc90ce4522554ea",
       "version_major": 2,
       "version_minor": 0
      },
      "text/plain": [
       "  0%|          | 0/33 [00:00<?, ?it/s]"
      ]
     },
     "metadata": {},
     "output_type": "display_data"
    },
    {
     "name": "stdout",
     "output_type": "stream",
     "text": [
      "2509 81850 3397\n"
     ]
    },
    {
     "data": {
      "application/vnd.jupyter.widget-view+json": {
       "model_id": "611adcb2dcdf41e092785c053ab8822d",
       "version_major": 2,
       "version_minor": 0
      },
      "text/plain": [
       "  0%|          | 0/33 [00:00<?, ?it/s]"
      ]
     },
     "metadata": {},
     "output_type": "display_data"
    },
    {
     "name": "stdout",
     "output_type": "stream",
     "text": [
      "[806, 157, 2509] 3397 81850 47150\n"
     ]
    }
   ],
   "source": [
    "all_best = pipeline(F, thresholds, 3)"
   ]
  },
  {
   "cell_type": "code",
   "execution_count": 73,
   "metadata": {},
   "outputs": [
    {
     "data": {
      "text/plain": [
       "[[1782, 3706, 3380, 3934, 1918], [1640, 3323, 2509, 387, 460]]"
      ]
     },
     "execution_count": 73,
     "metadata": {},
     "output_type": "execute_result"
    }
   ],
   "source": [
    "all_best"
   ]
  },
  {
   "cell_type": "code",
   "execution_count": 24,
   "metadata": {
    "pycharm": {
     "name": "#%%\n"
    }
   },
   "outputs": [
    {
     "data": {
      "application/vnd.jupyter.widget-view+json": {
       "model_id": "2631d8494c464cea821a3130ca9fcfe7",
       "version_major": 2,
       "version_minor": 0
      },
      "text/plain": [
       "  0%|          | 0/46 [00:00<?, ?it/s]"
      ]
     },
     "metadata": {},
     "output_type": "display_data"
    },
    {
     "name": "stdout",
     "output_type": "stream",
     "text": [
      "1782 30200\n"
     ]
    },
    {
     "data": {
      "application/vnd.jupyter.widget-view+json": {
       "model_id": "1ad92cc1c7594a2da01314ede15847eb",
       "version_major": 2,
       "version_minor": 0
      },
      "text/plain": [
       "  0%|          | 0/46 [00:00<?, ?it/s]"
      ]
     },
     "metadata": {},
     "output_type": "display_data"
    },
    {
     "name": "stdout",
     "output_type": "stream",
     "text": [
      "3706 52400\n"
     ]
    },
    {
     "data": {
      "application/vnd.jupyter.widget-view+json": {
       "model_id": "99dac23822d3441fa775c8e33e467ec8",
       "version_major": 2,
       "version_minor": 0
      },
      "text/plain": [
       "  0%|          | 0/46 [00:00<?, ?it/s]"
      ]
     },
     "metadata": {},
     "output_type": "display_data"
    },
    {
     "name": "stdout",
     "output_type": "stream",
     "text": [
      "3377 61900\n"
     ]
    },
    {
     "data": {
      "application/vnd.jupyter.widget-view+json": {
       "model_id": "7fb8b13a4998459e9444a36ed1dd6a46",
       "version_major": 2,
       "version_minor": 0
      },
      "text/plain": [
       "  0%|          | 0/46 [00:00<?, ?it/s]"
      ]
     },
     "metadata": {},
     "output_type": "display_data"
    },
    {
     "name": "stdout",
     "output_type": "stream",
     "text": [
      "3934 63500\n"
     ]
    },
    {
     "data": {
      "application/vnd.jupyter.widget-view+json": {
       "model_id": "65c5b57ebb1b4135adb5cb29652a6555",
       "version_major": 2,
       "version_minor": 0
      },
      "text/plain": [
       "  0%|          | 0/46 [00:00<?, ?it/s]"
      ]
     },
     "metadata": {},
     "output_type": "display_data"
    },
    {
     "name": "stdout",
     "output_type": "stream",
     "text": [
      "1918 64000\n"
     ]
    },
    {
     "data": {
      "application/vnd.jupyter.widget-view+json": {
       "model_id": "82174a17e1dd466ca28117be309429c9",
       "version_major": 2,
       "version_minor": 0
      },
      "text/plain": [
       "  0%|          | 0/46 [00:00<?, ?it/s]"
      ]
     },
     "metadata": {},
     "output_type": "display_data"
    },
    {
     "name": "stdout",
     "output_type": "stream",
     "text": [
      "None 64000\n"
     ]
    }
   ],
   "source": [
    "top_nodes = pd.Series(scores)[pd.Series(scores) > 0].index.tolist()\n",
    "best = greedy_influence_max(F, thresholds, top_nodes)"
   ]
  },
  {
   "cell_type": "markdown",
   "metadata": {
    "pycharm": {
     "name": "#%% md\n"
    }
   },
   "source": [
    "Бейзлайн - берём вершины, у которых высокая степень - не будем перебирать\n",
    "\n",
    "Идея 1:\n",
    "Разбиваем граф на кластера. а уже потом применяем алгоритмы.\n",
    "\n",
    "Идея 2:\n",
    "Скорим людей раз в 10 дней, отбираем какой-то разумный топ"
   ]
  },
  {
   "cell_type": "code",
   "execution_count": 77,
   "metadata": {
    "pycharm": {
     "name": "#%%\n"
    }
   },
   "outputs": [],
   "source": [
    "mapping = {key: val for key, val in enumerate(G.nodes)}\n",
    "sample_submission = ''.join([\"{\\n\", *[f\"{int(idx * 60 / len(all_best))}: {[mapping[x] for x in val]},\\n\" for idx, val in enumerate(all_best)],\"}\"])\n",
    "with open(\"sample.txt\", 'w') as f:\n",
    "    f.write(sample_submission)"
   ]
  },
  {
   "cell_type": "code",
   "execution_count": 34,
   "metadata": {
    "pycharm": {
     "name": "#%%\n"
    }
   },
   "outputs": [
    {
     "data": {
      "text/plain": [
       "array([    0,     0, -3500, ...,  -650,  -150,  -150])"
      ]
     },
     "execution_count": 34,
     "metadata": {},
     "output_type": "execute_result"
    }
   ],
   "source": [
    "scores"
   ]
  },
  {
   "cell_type": "code",
   "execution_count": 29,
   "metadata": {
    "pycharm": {
     "name": "#%%\n"
    }
   },
   "outputs": [
    {
     "data": {
      "text/plain": [
       "3987"
      ]
     },
     "execution_count": 29,
     "metadata": {},
     "output_type": "execute_result"
    }
   ],
   "source": [
    "mapping[3952]"
   ]
  },
  {
   "cell_type": "code",
   "execution_count": null,
   "metadata": {
    "pycharm": {
     "name": "#%%\n"
    }
   },
   "outputs": [],
   "source": []
  }
 ],
 "metadata": {
  "kernelspec": {
   "display_name": "Python 3 (ipykernel)",
   "language": "python",
   "name": "python3"
  },
  "language_info": {
   "codemirror_mode": {
    "name": "ipython",
    "version": 3
   },
   "file_extension": ".py",
   "mimetype": "text/x-python",
   "name": "python",
   "nbconvert_exporter": "python",
   "pygments_lexer": "ipython3",
   "version": "3.8.12"
  }
 },
 "nbformat": 4,
 "nbformat_minor": 1
}