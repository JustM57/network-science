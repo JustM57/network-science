{
 "cells": [
  {
   "cell_type": "markdown",
   "metadata": {},
   "source": [
    "# Assignment — Diffusions and epidemics on networks"
   ]
  },
  {
   "cell_type": "code",
   "execution_count": null,
   "metadata": {},
   "outputs": [],
   "source": [
    "import networkx as nx\n",
    "from tqdm.notebook import trange\n",
    "import numpy as np\n",
    "from matplotlib.animation import FuncAnimation\n",
    "from scipy.optimize import minimize\n",
    "from IPython.display import HTML\n",
    "from zlib import adler32\n",
    "import matplotlib.pyplot as plt"
   ]
  },
  {
   "cell_type": "markdown",
   "metadata": {},
   "source": [
    "### Task 1. Euler method (0 points)"
   ]
  },
  {
   "cell_type": "markdown",
   "metadata": {},
   "source": [
    "Euler method is a simple numerical procedure for solving ordinary differential equations (ODEs) with a given initial values.  For example, if we want to solve an equation\n",
    "\n",
    "$$dx/dt = \\sin(x)$$\n",
    "\n",
    "with initial value $x = x_0$, we can subtitute $dx = \\Delta x = x_{i+1} - x_{i}$ and $dt = \\Delta t$, therefore we obtain\n",
    "\n",
    "$$\\frac{x_{i+1} - x_i}{\\Delta t} = \\sin(x)$$ \n",
    "$$x_{i+1} = x_i + \\sin(x)\\Delta t$$\n",
    "\n",
    "Let $\\Delta t = 0.1$, and then we can solve the equation using this iterative form as follows"
   ]
  },
  {
   "cell_type": "code",
   "execution_count": null,
   "metadata": {},
   "outputs": [],
   "source": [
    "def solve_sinx(x0, dt, k):\n",
    "    x = x0\n",
    "    solution = [x0]\n",
    "    for _ in range(k):\n",
    "        dx = np.sin(x) * dt\n",
    "        x = x + dx\n",
    "        solution.append(x)\n",
    "    return solution"
   ]
  },
  {
   "cell_type": "code",
   "execution_count": null,
   "metadata": {},
   "outputs": [],
   "source": [
    "dt = 0.1\n",
    "for x0 in np.linspace(1, 12, 100):\n",
    "    solution = solve_sinx(x0, dt, 70)\n",
    "    plt.plot(solution, c='tab:blue', alpha=0.3);\n",
    "plt.xlabel('t')\n",
    "plt.ylabel('x')\n",
    "plt.show()"
   ]
  },
  {
   "cell_type": "markdown",
   "metadata": {},
   "source": [
    "Assume that we want to solve the famous chaotic Lorenz System:\n",
    "\n",
    "$$\n",
    "\\begin{cases}\n",
    "\\frac{dx}{dt} = \\sigma(y-x)\\\\\n",
    "\\frac{dy}{dt} = x(\\rho - z) - y\\\\\n",
    "\\frac{dz}{dt} = xy - \\beta z\\\\\n",
    "\\end{cases}\n",
    "$$\n",
    "\n",
    "with parameters $\\rho = 28$, $\\sigma = 10$, $\\beta = 8/3$ and initial values $x = y = z = 10$.\n",
    "\n",
    "Write a function `lorenz` that takes initial values, parameters, time increment `dt`, number of iterations `k` and returns np.array with solution of the form `[[x0, y0, z0], [x1, y1, z1], ...]` so that number of rows is `k+1`."
   ]
  },
  {
   "cell_type": "code",
   "execution_count": null,
   "metadata": {
    "deletable": false,
    "nbgrader": {
     "cell_type": "code",
     "checksum": "65d07739b04c26c05ceadb3840a858e8",
     "grade": false,
     "grade_id": "cell-eed3b935125812f1",
     "locked": false,
     "schema_version": 3,
     "solution": true,
     "task": false
    }
   },
   "outputs": [],
   "source": [
    "def lorenz(x0, y0, z0, rho, sigma, beta, dt, k):\n",
    "    # YOUR CODE HERE\n",
    "    raise NotImplementedError()"
   ]
  },
  {
   "cell_type": "code",
   "execution_count": null,
   "metadata": {
    "deletable": false,
    "editable": false,
    "nbgrader": {
     "cell_type": "code",
     "checksum": "0c25da2a1643a615f0da33c274b44973",
     "grade": true,
     "grade_id": "cell-06598fd0a7b7e4cf",
     "locked": true,
     "points": 0.0,
     "schema_version": 3,
     "solution": false,
     "task": false
    }
   },
   "outputs": [],
   "source": [
    "sim = lorenz(10., 10., 10., 28., 10., 8/3, 0.01, 8000-1)\n",
    "assert sim.shape == (8000, 3)\n",
    "assert np.all(sim[0] == [10, 10, 10])\n",
    "assert np.all(sim[1].round(2) == [10., 11.7, 10.73])\n",
    "assert np.all(sim[2].round(2) == [10.17, 13.31, 11.62])\n",
    "assert adler32(str(sim[3].round(2)[0]).encode()) == 48496892"
   ]
  },
  {
   "cell_type": "code",
   "execution_count": null,
   "metadata": {},
   "outputs": [],
   "source": [
    "fig = plt.figure(figsize=(8, 8))\n",
    "ax = fig.gca(projection='3d')\n",
    "xs, ys, zs = sim[:, 0], sim[:, 1], sim[:, 2]\n",
    "ax.plot(xs, ys, zs, lw=0.3)\n",
    "plt.title('Solution of the Lorenz System')\n",
    "ax.set_xlabel('x')\n",
    "ax.set_ylabel('y')\n",
    "ax.set_zlabel('z')\n",
    "plt.show()"
   ]
  },
  {
   "cell_type": "markdown",
   "metadata": {},
   "source": [
    "### Task 2. SI model (0 points)"
   ]
  },
  {
   "cell_type": "markdown",
   "metadata": {},
   "source": [
    "Consider a simple model of an epidemic — SI model. S — susceptible, I — infectious. Initialy we only have a few infected persons and all others are susceptible. Then some susceptible people become infected with infection rate $\\beta$. The model is defined as follows:\n",
    "\n",
    "Dynamic form\n",
    "\n",
    "$$S \\underset{\\beta SI}{\\to} I$$\n",
    "\n",
    "Equation form\n",
    "\n",
    "$$\\frac{dI}{dt} = \\beta \\frac{S}{N}I$$\n",
    "\n",
    "$$S + I = N$$\n",
    "\n",
    "where $N$ is the total population.\n",
    "\n",
    "Write a function `si_epidemic` that takes the total population `total`, number of infected people `I0`, infected rate `beta`, time increment `dt`, number of iterations `k` and returns a returns np.array with solution of the form `[[S0, I0], [S1, I1], ...]` so that number of rows is k+1."
   ]
  },
  {
   "cell_type": "code",
   "execution_count": null,
   "metadata": {
    "deletable": false,
    "nbgrader": {
     "cell_type": "code",
     "checksum": "98e0c3bea693bf84a419664ec1bc43e8",
     "grade": false,
     "grade_id": "cell-e2b1ffa27b6efcb5",
     "locked": false,
     "schema_version": 3,
     "solution": true,
     "task": false
    }
   },
   "outputs": [],
   "source": [
    "def si_epidemic(total, I0, beta, dt, k):\n",
    "    # YOUR CODE HERE\n",
    "    raise NotImplementedError()"
   ]
  },
  {
   "cell_type": "code",
   "execution_count": null,
   "metadata": {
    "deletable": false,
    "editable": false,
    "nbgrader": {
     "cell_type": "code",
     "checksum": "5d0453dfd10d806d6aea276075cf36b7",
     "grade": true,
     "grade_id": "cell-e17107636e2ee9ea",
     "locked": true,
     "points": 0.0,
     "schema_version": 3,
     "solution": false,
     "task": false
    }
   },
   "outputs": [],
   "source": [
    "solution = si_epidemic(total=1000, I0=1, beta=0.3, dt=0.5, k=130-1)\n",
    "assert solution.shape == (130, 2)\n",
    "assert np.all(solution[0] == [999, 1])\n",
    "assert np.all(solution[10].round(2) == [995.97, 4.03])\n",
    "assert np.all(solution[-1].round(2) == [0, 1000])\n",
    "assert adler32(str(solution[100].round(2)[0]).encode()) == 32047304"
   ]
  },
  {
   "cell_type": "code",
   "execution_count": null,
   "metadata": {},
   "outputs": [],
   "source": [
    "plt.plot(solution)\n",
    "plt.legend(['S', 'I'])\n",
    "plt.title('SI model, infected rate is 0.3')\n",
    "plt.xlabel('time')\n",
    "plt.ylabel('population')\n",
    "plt.show()"
   ]
  },
  {
   "cell_type": "markdown",
   "metadata": {},
   "source": [
    "Let us look at the plot of epidemic dynamics with the same setup but $\\beta = 0.1$."
   ]
  },
  {
   "cell_type": "code",
   "execution_count": null,
   "metadata": {},
   "outputs": [],
   "source": [
    "solution = si_epidemic(total=1000, I0=1, beta=0.1, dt=0.5, k=130-1)\n",
    "plt.plot(solution)\n",
    "plt.legend(['S', 'I'])\n",
    "plt.title('SI model, infected rate is 0.1')\n",
    "plt.xlabel('time')\n",
    "plt.ylabel('population')\n",
    "plt.show()"
   ]
  },
  {
   "cell_type": "markdown",
   "metadata": {},
   "source": [
    "### Task 3. SIR model (2 points)"
   ]
  },
  {
   "cell_type": "markdown",
   "metadata": {},
   "source": [
    "The next model is SIR. S — susceptible, I — infectious, R — recovered people. Initialy we only have a few infected persons and others are susceptible. Then some susceptible people become infected with infection rate $\\beta$ and some infected people recover with recovery rate $\\gamma$. There is no chance to infect after recovering. The model is defined as follows:\n",
    "\n",
    "Dynamic form\n",
    "\n",
    "$$S \\underset{\\beta SI}{\\to} I \\underset{\\gamma I}{\\to} R$$\n",
    "\n",
    "Equation form (in proportions of the population)\n",
    "\n",
    "$$\\begin{cases}\n",
    "ds/dt = -\\beta si\\\\\n",
    "di/dt = \\beta si - \\gamma i\\\\\n",
    "dr/dt = \\gamma i\\\\\n",
    "s+i+r = 1\n",
    "\\end{cases}$$\n",
    "\n",
    "Write a function `sir_epidemic` that takes an initial proportion `s0`, `i0`, `r0`, infection rate `beta`, recovery rate `gamma`, a number of steps `k` and time increment `dt`. The function returns np.array of shape `(k+1, 3)` with `s`, `i`, `r` proportion in each step. The first row contains an initial proportion."
   ]
  },
  {
   "cell_type": "code",
   "execution_count": null,
   "metadata": {
    "deletable": false,
    "nbgrader": {
     "cell_type": "code",
     "checksum": "d6f79dcf0fdad5c4a3f1c2d6158c80d8",
     "grade": false,
     "grade_id": "cell-d04d4c7e210cc9b4",
     "locked": false,
     "schema_version": 3,
     "solution": true,
     "task": false
    }
   },
   "outputs": [],
   "source": [
    "def sir_epidemic(s0, i0, r0, beta, gamma, k, dt):\n",
    "    # YOUR CODE HERE\n",
    "    raise NotImplementedError()"
   ]
  },
  {
   "cell_type": "code",
   "execution_count": null,
   "metadata": {
    "deletable": false,
    "editable": false,
    "nbgrader": {
     "cell_type": "code",
     "checksum": "cda749f6f5a7c232c218ec1a0feec11f",
     "grade": true,
     "grade_id": "cell-ba03ef4271e82af1",
     "locked": true,
     "points": 2.0,
     "schema_version": 3,
     "solution": false,
     "task": false
    }
   },
   "outputs": [],
   "source": [
    "s0, i0, r0 = 0.99, 0.01, 0\n",
    "beta, gamma = 0.6, 0.1\n",
    "dt = 1\n",
    "epidemic = sir_epidemic(s0, i0, r0, beta, gamma, 80, dt)\n",
    "assert epidemic.shape == (81, 3)\n",
    "assert np.all(epidemic[0] == [0.99, 0.01, 0.  ])\n",
    "assert np.all(epidemic[5].round(2) == [0.92, 0.07, 0.01])\n",
    "assert np.all(epidemic[80].round(2) == [0, 0, 1])\n",
    "assert adler32(str(epidemic[10].round(2)[1]).encode()) == 32112840"
   ]
  },
  {
   "cell_type": "markdown",
   "metadata": {},
   "source": [
    "Here is also the critical point for a basic reproduction number $R_0 = \\beta / \\gamma$\n",
    "\n",
    "* If $R_0 > 1$: Endemic State,  $r(+\\infty) \\to 1$\n",
    "* If $R_0 < 1$: Disease-free State, $r(+\\infty) \\to \\text{const}$\n",
    "\n",
    "where $r(t)$ is the share of recovered people at the time moment $t$."
   ]
  },
  {
   "cell_type": "code",
   "execution_count": null,
   "metadata": {},
   "outputs": [],
   "source": [
    "plt.plot(epidemic)\n",
    "plt.legend(['S', 'I', 'R']);\n",
    "plt.title('SIR model, Endemic State, R_0 is {:.2f}'.format(beta/gamma))\n",
    "plt.xlabel('time')\n",
    "plt.ylabel('proportion')\n",
    "plt.show()"
   ]
  },
  {
   "cell_type": "code",
   "execution_count": null,
   "metadata": {},
   "outputs": [],
   "source": [
    "s0, i0, r0 = 0.7, 0.3, 0.\n",
    "dt = 1\n",
    "beta, gamma = 0.1, 0.3\n",
    "epidemic = sir_epidemic(s0, i0, r0, beta, gamma, 80, dt)\n",
    "plt.plot(epidemic)\n",
    "plt.legend(['S', 'I', 'R']);\n",
    "plt.title('SIR model, Disease-free State, R_0 is {:.2f}'.format(beta/gamma))\n",
    "plt.xlabel('time')\n",
    "plt.ylabel('proportion')\n",
    "plt.show()"
   ]
  },
  {
   "cell_type": "markdown",
   "metadata": {},
   "source": [
    "### Task 4. Diffusions on networks (2 points)"
   ]
  },
  {
   "cell_type": "markdown",
   "metadata": {},
   "source": [
    "A diffusion process is a propagation model, where node values $\\phi$ (say, 'heat') spread out of high concentration zone. Consider the diffusion on grid of the size 20x20. Let there be a 3x3 sub-grid with a heat value 3 and a 7x5 sub-grid with a heat value 1. All other nodes has a value 0. The initial heat values is $\\phi_0$."
   ]
  },
  {
   "cell_type": "code",
   "execution_count": null,
   "metadata": {},
   "outputs": [],
   "source": [
    "phi_map = np.zeros((20, 20))\n",
    "phi_map[1:4, 1:4] = 3\n",
    "phi_map[10:15, 8:15] = 1\n",
    "phi0 = phi_map.flatten()"
   ]
  },
  {
   "cell_type": "code",
   "execution_count": null,
   "metadata": {},
   "outputs": [],
   "source": [
    "plt.figure(figsize=(7*0.7, 3*0.7))\n",
    "gridG = nx.grid_graph((20, 20))\n",
    "nx.draw_kamada_kawai(\n",
    "    gridG,\n",
    "    cmap=plt.cm.inferno_r,\n",
    "    vmin=0, vmax=3,\n",
    "    width=0,\n",
    "    node_size=40,\n",
    "    node_color=phi0)"
   ]
  },
  {
   "cell_type": "markdown",
   "metadata": {},
   "source": [
    "Create a diffusion simulation based on this diffusion equation\n",
    "\n",
    "$$\\frac{d\\phi}{dt} = -CL\\phi$$\n",
    "\n",
    "where $L$ is a graph Laplacian.\n",
    "\n",
    "Write a function `next_phi` that takes an adjacency matrix `A`, np.array with previous heat values `phi`, constant `C` and time increment `dt`. The function returns a np.array with the next heat values."
   ]
  },
  {
   "cell_type": "code",
   "execution_count": null,
   "metadata": {
    "deletable": false,
    "nbgrader": {
     "cell_type": "code",
     "checksum": "f1ae6723ed0fe6204738bfde1300ec10",
     "grade": false,
     "grade_id": "cell-f084b91a7a071038",
     "locked": false,
     "schema_version": 3,
     "solution": true,
     "task": false
    }
   },
   "outputs": [],
   "source": [
    "def next_phi(A, phi, C, dt):\n",
    "    # YOUR CODE HERE\n",
    "    raise NotImplementedError()"
   ]
  },
  {
   "cell_type": "code",
   "execution_count": null,
   "metadata": {
    "deletable": false,
    "editable": false,
    "nbgrader": {
     "cell_type": "code",
     "checksum": "e879dacebdbbef3fe9516d22c10b5889",
     "grade": true,
     "grade_id": "cell-77fa8098bedb8168",
     "locked": true,
     "points": 1.0,
     "schema_version": 3,
     "solution": false,
     "task": false
    }
   },
   "outputs": [],
   "source": [
    "A = nx.to_numpy_array(gridG)\n",
    "C = 0.1\n",
    "dt = 2\n",
    "phi = next_phi(A, phi0, C, dt)\n",
    "assert phi.shape == (400,)\n",
    "assert phi.sum() == phi0.sum()\n",
    "assert phi.std() < phi0.sum()\n",
    "assert round(phi[20:25].sum(), 4) == 7.2"
   ]
  },
  {
   "cell_type": "code",
   "execution_count": null,
   "metadata": {},
   "outputs": [],
   "source": [
    "plt.figure(figsize=(7*2, 3*3))\n",
    "\n",
    "phi = phi0\n",
    "for i in range(6):\n",
    "    plt.subplot(3, 2, i+1)\n",
    "    gridG = nx.grid_graph((20, 20))\n",
    "    nx.draw_kamada_kawai(\n",
    "        gridG,\n",
    "        cmap=plt.cm.inferno_r,\n",
    "        vmin=0, vmax=3,\n",
    "        width=0,\n",
    "        node_size=40,\n",
    "        node_color=phi)\n",
    "    plt.title('t = {}'.format(i*dt))\n",
    "    phi = next_phi(A, phi, C, dt)\n",
    "phi12 = phi"
   ]
  },
  {
   "cell_type": "markdown",
   "metadata": {},
   "source": [
    "We can run simulation step-by-step as long as we need, but fortunately, there is an analytical solution\n",
    "\n",
    "$$\\phi(t) = \\sum_k a_k(t) v_k = \\sum_k a_k(0) e^{-C\\lambda_k t} v_k$$\n",
    "\n",
    "where $a_k(t) = \\phi(t)^T v_k$ and $v_k$ is k-th smallest eigenvector of a Laplacian.\n",
    "\n",
    "Write a function `phi_t` that takes an adjacency matrix `A`, np.array with initial heat values `phi0`, constant `C` and time moment `t`. The function returns a np.array with the heat values at time moment `t`. Use `np.linalg.eigh` or `scipy.linalg.eigh` for a symmetric matrix."
   ]
  },
  {
   "cell_type": "code",
   "execution_count": null,
   "metadata": {
    "deletable": false,
    "nbgrader": {
     "cell_type": "code",
     "checksum": "3447b53bce3c5f3d50c6516d67bd24fa",
     "grade": false,
     "grade_id": "cell-aed913bdee3b3d1b",
     "locked": false,
     "schema_version": 3,
     "solution": true,
     "task": false
    }
   },
   "outputs": [],
   "source": [
    "def phi_t(A, phi0, C, t):\n",
    "    # YOUR CODE HERE\n",
    "    raise NotImplementedError()"
   ]
  },
  {
   "cell_type": "code",
   "execution_count": null,
   "metadata": {
    "deletable": false,
    "editable": false,
    "nbgrader": {
     "cell_type": "code",
     "checksum": "3241a67ee7ec2cf19c10366317fc5cbc",
     "grade": true,
     "grade_id": "cell-16e1ff822aa555a5",
     "locked": true,
     "points": 1.0,
     "schema_version": 3,
     "solution": false,
     "task": false
    }
   },
   "outputs": [],
   "source": [
    "assert phi_t(A, phi0, C, 0).shape == (400,)\n",
    "assert round(np.linalg.norm(phi0 - phi_t(A, phi0, C, 0)), 4) == 0\n",
    "assert round(np.linalg.norm(phi12 - phi_t(A, phi0, C, 12)), 4) < 0.4\n",
    "assert len(np.unique(phi_t(A, phi0, C, 10000).round(4))) == 1\n",
    "assert phi_t(A, phi0, C, 10000).round(4)[0] == phi0.sum() / len(phi0)"
   ]
  },
  {
   "cell_type": "code",
   "execution_count": null,
   "metadata": {},
   "outputs": [],
   "source": [
    "plt.figure(figsize=(7*2, 3*2))\n",
    "i = 1\n",
    "for t in [10, 20, 50, 100]:\n",
    "    plt.subplot(2, 2, i)\n",
    "    gridG = nx.grid_graph((20, 20))\n",
    "    nx.draw_kamada_kawai(\n",
    "        gridG,\n",
    "        cmap=plt.cm.inferno_r,\n",
    "        vmin=0, vmax=3,\n",
    "        width=0,\n",
    "        node_size=40,\n",
    "        node_color=phi_t(A, phi0, C, t))\n",
    "    plt.title('t = {}'.format(t))\n",
    "    i += 1"
   ]
  },
  {
   "cell_type": "markdown",
   "metadata": {},
   "source": [
    "### Task 5. SIS model on networks (0 points)"
   ]
  },
  {
   "cell_type": "markdown",
   "metadata": {},
   "source": [
    "Let us consider epidemic models on networks. SIS model is described by a dynamic form\n",
    "\n",
    "$$S \\to_{\\beta SI} I \\to_{\\gamma I} S$$\n",
    "\n",
    "To model epidemics on networks, we need to use probabilistic approach. First, let us define a function that gives us a random sample of available nodes by given probability.\n",
    "\n",
    "Here is a function `select_nodes` that takes a np.array `vec`, where an i-th element is a number of neighbors that can affect to i-th node with probability `proba`. For example, `vec` can represent the number of infected neighbors, say [0, 2, 1] and then the probability is an infected rate $\\beta$. That means the first node has no infected neighbors, the second has two infected neighbors, the third has one infected neighbor. Thereby, the second node has a $(1 - (1-\\beta)^2)$ probability of getting infected."
   ]
  },
  {
   "cell_type": "code",
   "execution_count": null,
   "metadata": {},
   "outputs": [],
   "source": [
    "def select_nodes(vec, proba):\n",
    "    sample = np.random.rand(len(vec))\n",
    "    res = sample < (1 - (1 - proba)**vec)\n",
    "    return res.astype('int')"
   ]
  },
  {
   "cell_type": "markdown",
   "metadata": {},
   "source": [
    "Let us infect a few random nodes and simulate a propogation of an epidemic.\n",
    "\n",
    "Write a function `sis_networks` that takes a graph `G`, np.array with an initial indicator vector `S` where `S[i]` is 1 if i-th node is susceptible and 0 otherwise (the same for `I`). Any node must be susceptible or infected at any step. Also the function takes rates `beta`, `gamma`, number of steps `k`. The function returns a np.array of shape `(k+1, 2, n)` where `n` is a number of nodes. At i-th step, the matrix `result[i, :, :]` contains indicator `S` in the first column and `I` in the second.\n",
    "\n",
    "_Hint: to calculate the number of infected neighbors, use `I @ A * S`_"
   ]
  },
  {
   "cell_type": "code",
   "execution_count": null,
   "metadata": {
    "deletable": false,
    "nbgrader": {
     "cell_type": "code",
     "checksum": "e2ba308354e47b60dfab4f0157cd6086",
     "grade": false,
     "grade_id": "cell-ef6a0916349c86dd",
     "locked": false,
     "schema_version": 3,
     "solution": true,
     "task": false
    }
   },
   "outputs": [],
   "source": [
    "def sis_networks(G, S, I, beta, gamma, k):\n",
    "    # YOUR CODE HERE\n",
    "    raise NotImplementedError()"
   ]
  },
  {
   "cell_type": "code",
   "execution_count": null,
   "metadata": {
    "deletable": false,
    "editable": false,
    "nbgrader": {
     "cell_type": "code",
     "checksum": "a1b59c9931449994560815b47927547c",
     "grade": true,
     "grade_id": "cell-5cf71c10ff7077f8",
     "locked": true,
     "points": 0.0,
     "schema_version": 3,
     "solution": false,
     "task": false
    }
   },
   "outputs": [],
   "source": [
    "G = nx.barabasi_albert_graph(50, 3, seed=0)\n",
    "\n",
    "I = np.zeros(len(G))\n",
    "I[:3] = 1\n",
    "S = 1 - I\n",
    "beta = 0.2\n",
    "gamma = 0.2\n",
    "\n",
    "epidemic = sis_networks(G, S, I, beta, gamma, 100)\n",
    "assert epidemic.sum() == 5050\n",
    "assert epidemic.shape == (101, 2, 50)\n",
    "assert (epidemic.sum(axis=1) == 1).sum() == 5050\n",
    "sigma = 6.3853\n",
    "mean = 16.0198\n",
    "assert mean - 2*sigma < round(epidemic.sum(axis=2)[:, 0].mean(), 4) < mean + 2*sigma\n",
    "sigma = 5.953\n",
    "mean = 34.2178\n",
    "assert mean - 2*sigma < round(epidemic.sum(axis=2)[:, 1].mean(), 4) < mean + 2*sigma"
   ]
  },
  {
   "cell_type": "code",
   "execution_count": null,
   "metadata": {},
   "outputs": [],
   "source": [
    "plt.plot(epidemic.sum(axis=2))\n",
    "plt.legend(['S', 'I']);"
   ]
  },
  {
   "cell_type": "code",
   "execution_count": null,
   "metadata": {},
   "outputs": [],
   "source": [
    "plt.figure(figsize=(7*2, 5*3))\n",
    "pos = nx.kamada_kawai_layout(G)\n",
    "i = 1\n",
    "for S, I in epidemic[:6]:\n",
    "    plt.subplot(3, 2, i)\n",
    "    nodes = nx.draw_networkx_nodes(G, pos, \n",
    "            node_size=400,\n",
    "            node_color=I+1, \n",
    "            vmin=0, vmax=2, \n",
    "            cmap=plt.cm.rainbow,\n",
    "            edgecolors='black')\n",
    "    nx.draw_networkx_edges(G, pos,\n",
    "            width=0.5,\n",
    "            node_size=400)\n",
    "    nx.draw_networkx_labels(G, pos)\n",
    "    plt.title('Step {}'.format(i))\n",
    "    plt.legend(nodes.legend_elements()[0], ['Susceptible', 'Infected'])\n",
    "    plt.axis('off')\n",
    "    i += 1"
   ]
  },
  {
   "cell_type": "markdown",
   "metadata": {},
   "source": [
    "### Task 6. SIRS model on networks (2 points)"
   ]
  },
  {
   "cell_type": "markdown",
   "metadata": {},
   "source": [
    "Let us implement SIRS node-level model\n",
    "$$S \\to_{\\beta SI} I \\to_{\\gamma I} R \\to_{\\delta R} S$$\n",
    "\n",
    "Write a function `sirs_networks` that takes a graph `G`, np.array with initial indicator `S` where `S[i]` is 1 if i-th node is susceptible and 0 otherwise (the same for `I` and `R`). Also the function takes rates `beta`, `gamma`, `delta`, number of steps `k`. The function returns a np.array of shape `(k+1, 3, n)` where `n` is a number of nodes. At i-th step, the matrix `result[i, :, :]` contains indicator `S` in the first column, `I` in the second, `R` in the third."
   ]
  },
  {
   "cell_type": "code",
   "execution_count": null,
   "metadata": {
    "deletable": false,
    "nbgrader": {
     "cell_type": "code",
     "checksum": "b6363c1341ac751bb4b138825869590a",
     "grade": false,
     "grade_id": "cell-019204d21b0147e4",
     "locked": false,
     "schema_version": 3,
     "solution": true,
     "task": false
    }
   },
   "outputs": [],
   "source": [
    "def sirs_networks(G, S, I, R, beta, gamma, delta, k):\n",
    "    # YOUR CODE HERE\n",
    "    raise NotImplementedError()"
   ]
  },
  {
   "cell_type": "code",
   "execution_count": null,
   "metadata": {
    "deletable": false,
    "editable": false,
    "nbgrader": {
     "cell_type": "code",
     "checksum": "9516eeafb8f7d9fd7fc889fa682d6b6b",
     "grade": true,
     "grade_id": "cell-09257c476b1763a0",
     "locked": true,
     "points": 2.0,
     "schema_version": 3,
     "solution": false,
     "task": false
    }
   },
   "outputs": [],
   "source": [
    "G = nx.barabasi_albert_graph(40, 3, seed=0)\n",
    "I = np.zeros(len(G))\n",
    "I[:3] = 1\n",
    "S = 1 - I\n",
    "R = np.zeros(len(G))\n",
    "\n",
    "beta = 0.1\n",
    "gamma = 0.3\n",
    "delta = 0.1\n",
    "\n",
    "epidemic = sirs_networks(G, S, I, R, beta, gamma, delta, 200)\n",
    "assert epidemic.shape == (201, 3, 40)\n",
    "assert (epidemic.sum(axis=1) == 1).sum() == 8040\n",
    "assert (epidemic[200].sum(axis=1) == [40, 0, 0]).sum() == 3\n",
    "\n",
    "for k in range(6):\n",
    "    for node in G.nodes:\n",
    "        if epidemic[k, 0, node] > epidemic[k+1, 0, node]:\n",
    "            assert epidemic[k+1, 1, node] == 1\n",
    "            neighbors = np.array([n for n in G.neighbors(node)])\n",
    "            assert epidemic[k, 1][neighbors].sum()\n",
    "        elif epidemic[k, 1, node] > epidemic[k+1, 1, node]:\n",
    "            assert epidemic[k+1, 2, node] == 1\n",
    "        elif epidemic[k, 2, node] > epidemic[k+1, 2, node]:\n",
    "            assert epidemic[k+1, 0, node] == 1"
   ]
  },
  {
   "cell_type": "code",
   "execution_count": null,
   "metadata": {},
   "outputs": [],
   "source": [
    "plt.plot(epidemic.sum(axis=2))\n",
    "plt.legend(['S', 'I', 'R']);"
   ]
  },
  {
   "cell_type": "code",
   "execution_count": null,
   "metadata": {},
   "outputs": [],
   "source": [
    "plt.figure(figsize=(7*2, 5*3))\n",
    "pos = nx.kamada_kawai_layout(G)\n",
    "i = 1\n",
    "for S, I, R in epidemic[:6]:\n",
    "    plt.subplot(3, 2, i)\n",
    "    nodes = nx.draw_networkx_nodes(G, pos, \n",
    "            node_size=400,\n",
    "            node_color=(S + I*2), \n",
    "            vmin=0, vmax=2, \n",
    "            cmap=plt.cm.rainbow,\n",
    "            edgecolors='black')\n",
    "    nx.draw_networkx_edges(G, pos,\n",
    "            width=0.5,\n",
    "            node_size=400)\n",
    "    nx.draw_networkx_labels(G, pos)\n",
    "    plt.title('Step {}'.format(i))\n",
    "    if len(nodes.legend_elements()[0]) == 2:\n",
    "        plt.legend(\n",
    "            nodes.legend_elements()[0], \n",
    "            ['Susceptible', 'Infected'])\n",
    "    else:\n",
    "        plt.legend(\n",
    "            nodes.legend_elements()[0], \n",
    "            ['Recovered', 'Susceptible', 'Infected'])\n",
    "    plt.axis('off')\n",
    "    i += 1"
   ]
  },
  {
   "cell_type": "markdown",
   "metadata": {},
   "source": [
    "We can also can model \"the second waves\" using delta parameter"
   ]
  },
  {
   "cell_type": "code",
   "execution_count": null,
   "metadata": {},
   "outputs": [],
   "source": [
    "G = nx.barabasi_albert_graph(1000, 3, seed=0)\n",
    "\n",
    "I = np.zeros(len(G))\n",
    "I[0] = 1\n",
    "S = 1 - I\n",
    "R = np.zeros(len(G))\n",
    "\n",
    "epidemic = sirs_networks(G, S, I, R, 0.3, 0.4, 0.07, 100)\n",
    "plt.plot(epidemic.sum(axis=2))\n",
    "plt.legend(['S', 'I', 'R']);"
   ]
  },
  {
   "cell_type": "markdown",
   "metadata": {},
   "source": [
    "### Erdos-Renyi graph"
   ]
  },
  {
   "cell_type": "markdown",
   "metadata": {},
   "source": [
    "This part of the assignment is devoted to models of influence propagation: the linear threshold model and independent cascade model. There are many applications of these types of models, for example:\n",
    "* Rise of a political movement in an unstable society\n",
    "* “Word-of-mouth” effects: when we have access to plentiful information, such as when we evaluate new technologies, risky financial assets, or job candidates, we often lack the ability to make sense of it; hence, we rely on the advice of trusted friends, colleagues, or advisors\n",
    "* “Viral marketing” effects in the success of new products\n",
    "* Adoption of medical and agricultural innovations\n",
    "* Cascading failures in power systems\n",
    "* Desicion making by majority voting\n",
    "\n",
    "Let us consider these models on directed Erdos Renyi graph."
   ]
  },
  {
   "cell_type": "code",
   "execution_count": null,
   "metadata": {},
   "outputs": [],
   "source": [
    "n = 20\n",
    "G = nx.erdos_renyi_graph(n, 0.11, 0, True)\n",
    "\n",
    "plt.figure(figsize=(6, 4))\n",
    "pos = nx.kamada_kawai_layout(G)\n",
    "nx.draw(G, pos, with_labels=True, node_color='white', edgecolors='black')"
   ]
  },
  {
   "cell_type": "markdown",
   "metadata": {},
   "source": [
    "### Task 7. Linear threshold model (0 points)"
   ]
  },
  {
   "cell_type": "markdown",
   "metadata": {},
   "source": [
    "Linear threshold model is defined as follows. Given a choice of all nodes’ thresholds, and an initial set of active nodes, the diffusion process unfolds deterministically in discrete steps: in step $t$, all nodes that were\n",
    "active in step $t-1$ remain active; furthermore, each currently inactive node becomes active if and only\n",
    "if the total share of its active neighbors is at least node's threshold.\n",
    "\n",
    "Write a function `linear_threshold` that takes a graph, np.array `active_nodes` with zeros and ones (if `active_nodes[i]` is 1 then the i-th node is active), np.array of `thresholds`. The function propagates influence and stops when the model stops changing. The function returns a np.array with active nodes in each step. The first step is initial activation, the last and the second to last steps are the same (we want to see that the propogation stops changing)."
   ]
  },
  {
   "cell_type": "code",
   "execution_count": null,
   "metadata": {
    "deletable": false,
    "nbgrader": {
     "cell_type": "code",
     "checksum": "26b04476cb17bab7e6003418f9408a69",
     "grade": false,
     "grade_id": "cell-515144b932e0af91",
     "locked": false,
     "schema_version": 3,
     "solution": true,
     "task": false
    }
   },
   "outputs": [],
   "source": [
    "def linear_threshold(G, active_nodes, thresholds):\n",
    "    # YOUR CODE HERE\n",
    "    raise NotImplementedError()"
   ]
  },
  {
   "cell_type": "code",
   "execution_count": null,
   "metadata": {
    "deletable": false,
    "editable": false,
    "nbgrader": {
     "cell_type": "code",
     "checksum": "54149ad34b632f21cade914cff2954d8",
     "grade": true,
     "grade_id": "cell-a0c0e429d4f73e24",
     "locked": true,
     "points": 0.0,
     "schema_version": 3,
     "solution": false,
     "task": false
    }
   },
   "outputs": [],
   "source": [
    "np.random.seed(5)\n",
    "active_nodes = np.zeros(n, 'int')\n",
    "active_nodes[np.random.choice(np.arange(n), 2, False)] = 1\n",
    "thresholds = np.random.uniform(0.5, 1, n)\n",
    "\n",
    "sim = linear_threshold(G, active_nodes, thresholds)\n",
    "\n",
    "assert sim.shape == (4, 20)\n",
    "assert np.all(sim[0] == active_nodes)\n",
    "assert np.all(sim[-1] == sim[-2])\n",
    "assert sim[0, 4] == 0\n",
    "assert sim[2, 4] == 1\n",
    "assert sim[0, 3] == 0\n",
    "assert sim[1, 15] == 1"
   ]
  },
  {
   "cell_type": "code",
   "execution_count": null,
   "metadata": {},
   "outputs": [],
   "source": [
    "plt.figure(figsize=(6*2, 4*2))\n",
    "\n",
    "for i, color in enumerate(sim):\n",
    "    plt.subplot(2, 2, i+1)\n",
    "    nx.draw(G, pos, with_labels=True, \n",
    "            node_color=color+1, \n",
    "            vmin=0, vmax=2, \n",
    "            cmap=plt.cm.rainbow,\n",
    "            edgecolors='black')\n",
    "    plt.title('Step {}'.format(i))\n",
    "plt.show()"
   ]
  },
  {
   "cell_type": "markdown",
   "metadata": {},
   "source": [
    "### Task 8. Independent cascade model (2 points)"
   ]
  },
  {
   "cell_type": "markdown",
   "metadata": {},
   "source": [
    "The next type is Independent cascade model. We again start with an initial set of active nodes, and the process unfolds in discrete steps according to the following randomized rule. When node $v$ first becomes active in step $t$, it is given a single chance to activate each currently inactive neighbor $w$; it succeeds with a probability $p_{v,w}$ — a parameter of the system — independently of the history thus far. (If $w$ has multiple newly activated neighbors, their attempts are sequenced in an arbitrary order.) If $v$ succeeds, then $w$ will become active in step $t+1$; but whether or not $v$ succeeds, it cannot make any further attempts to activate $w$ in subsequent steps.\n",
    "\n",
    "Write a function `independent_cascade` that takes a graph, np.array active_nodes with zeros and ones (if active_nodes[i] is 1 then the i-th node is active), np.array with propagation probabilities `prop_proba` for edges ordered by `G.edges`. The function propagates influence and stops when the model stops changing. The function returns a np.array with active nodes in each step. The first step is initial activation, the last and the second to last steps are the same (we want to see that the model stops changing)."
   ]
  },
  {
   "cell_type": "code",
   "execution_count": null,
   "metadata": {
    "deletable": false,
    "nbgrader": {
     "cell_type": "code",
     "checksum": "485b84d9d49345fdf82ee2964d68b5d0",
     "grade": false,
     "grade_id": "cell-69f6afdb2634041d",
     "locked": false,
     "schema_version": 3,
     "solution": true,
     "task": false
    }
   },
   "outputs": [],
   "source": [
    "def independent_cascade(G, active_nodes, prop_proba):\n",
    "    # YOUR CODE HERE\n",
    "    raise NotImplementedError()"
   ]
  },
  {
   "cell_type": "code",
   "execution_count": null,
   "metadata": {
    "deletable": false,
    "editable": false,
    "nbgrader": {
     "cell_type": "code",
     "checksum": "604292efecb6908e66950c67803e2c3c",
     "grade": true,
     "grade_id": "cell-3389d2c8f3368404",
     "locked": true,
     "points": 2.0,
     "schema_version": 3,
     "solution": false,
     "task": false
    }
   },
   "outputs": [],
   "source": [
    "np.random.seed(1)\n",
    "active_nodes = np.zeros(20, 'int')\n",
    "active_nodes[np.random.choice(np.arange(20), 2, False)] = 1\n",
    "prop_proba = np.random.rand(len(G.edges))\n",
    "\n",
    "sims = []\n",
    "n_steps = []\n",
    "for i in range(1000):\n",
    "    sim = independent_cascade(G, active_nodes, prop_proba)\n",
    "    sims.append(sim)\n",
    "    n_steps.append(len(sim))\n",
    "sigma = 1.9165\n",
    "mean = 5.103\n",
    "assert mean - 2*sigma < np.mean(n_steps) < mean + 2*sigma\n",
    "sim = sims[n_steps.index(6)]\n",
    "assert sim.shape == (6, 20)\n",
    "assert np.all(sim[0] == active_nodes)\n",
    "assert np.all(sim[-1] == sim[-2])\n",
    "for i in range(1, 4):\n",
    "    attempts = sim[i] - sim[i-1]\n",
    "    new_active = sim[i+1] - sim[i]\n",
    "    has_edge = False\n",
    "    for j in np.argwhere(attempts == 1):\n",
    "        for k in np.argwhere(new_active == 1):\n",
    "            if G.has_edge(j[0], k[0]):\n",
    "                has_edge = True\n",
    "    assert has_edge"
   ]
  },
  {
   "cell_type": "code",
   "execution_count": null,
   "metadata": {},
   "outputs": [],
   "source": [
    "plt.figure(figsize=(6*2, 4*3))\n",
    "\n",
    "for i, color in enumerate(sim):\n",
    "    plt.subplot(3, 2, i+1)\n",
    "    nx.draw(G, pos, with_labels=True, \n",
    "            node_color=color+1, \n",
    "            vmin=0, vmax=2, \n",
    "            cmap=plt.cm.rainbow,\n",
    "            edgecolors='black')\n",
    "    plt.title('Step {}'.format(i))\n",
    "plt.show()"
   ]
  },
  {
   "cell_type": "markdown",
   "metadata": {},
   "source": [
    "### Task 9. Greedy influence maximization (2 points)"
   ]
  },
  {
   "cell_type": "markdown",
   "metadata": {},
   "source": [
    "The influence is the expected number of active nodes at the end of the process\n",
    "\n",
    "$$\\sigma(A_0) = \\mathbb E[|A_t|]$$\n",
    "\n",
    "where $A_0$ is an initial active nodes and $A_t$ is an active nodes at the end. Linear threshold model is deterministic and then $E[|A_t|] = |A_t|$.\n",
    "\n",
    "The influence maximization problem asks, for a given number of initial active nodes $k$, to find a set of nodes that gives maximum influence. It is NP-hard problem, but a useful property is that it can be solved in polynomial time by greedy optimization with guaranteed performance slightly better than 63%. Proofs are [here](https://theoryofcomputing.org/articles/v011a004/v011a004.pdf). The algorithm is:\n",
    "\n",
    "1. Let $A_0 = \\emptyset$\n",
    "2. For every node $i$, calculate the influence $\\sigma(A_0 \\cup \\{i\\})$\n",
    "3. Put the node with the largest influence into the initial active set $A_0 = A_0 \\cup \\{i\\}$\n",
    "4. Repeat 2-3 until $|A_0| = k$\n",
    "\n",
    "Write a function `greedy_influence_max` that takes a graph, `thresholds` of linear threshold model, number of active nodes `k` and calculates initial active nodes by greedy algorithm. The function returns a np.array with zeros and ones (if `active_nodes[i]` is 1 then the i-th node is active)."
   ]
  },
  {
   "cell_type": "code",
   "execution_count": null,
   "metadata": {
    "deletable": false,
    "nbgrader": {
     "cell_type": "code",
     "checksum": "588a67aa154b9090ddc92e5b42fdf5d1",
     "grade": false,
     "grade_id": "cell-ee934f2bc8c7504a",
     "locked": false,
     "schema_version": 3,
     "solution": true,
     "task": false
    }
   },
   "outputs": [],
   "source": [
    "def greedy_influence_max(G, thresholds, k):\n",
    "    # YOUR CODE HERE\n",
    "    raise NotImplementedError()"
   ]
  },
  {
   "cell_type": "code",
   "execution_count": null,
   "metadata": {
    "deletable": false,
    "editable": false,
    "nbgrader": {
     "cell_type": "code",
     "checksum": "e57ac86858005a71fcd82110bdd5cbc3",
     "grade": true,
     "grade_id": "cell-58dc4b2003bdb792",
     "locked": true,
     "points": 2.0,
     "schema_version": 3,
     "solution": false,
     "task": false
    }
   },
   "outputs": [],
   "source": [
    "n = 100\n",
    "G = nx.erdos_renyi_graph(n, 0.07, 0, True)\n",
    "\n",
    "np.random.seed(0)\n",
    "active_nodes = np.zeros(n, 'int')\n",
    "active_nodes[np.random.choice(np.arange(n), 2, False)] = 1\n",
    "thresholds = np.random.uniform(0.1, 0.8, n)\n",
    "\n",
    "best_active = greedy_influence_max(G, thresholds, 2)\n",
    "assert best_active.shape == (100,)\n",
    "assert best_active.sum() == 2\n",
    "sim = linear_threshold(G, best_active, thresholds)\n",
    "assert sim[-1].sum() > 21 * 0.63"
   ]
  },
  {
   "cell_type": "markdown",
   "metadata": {},
   "source": [
    "Here is the same model as in the linear threshold task, but with a better initial active set."
   ]
  },
  {
   "cell_type": "code",
   "execution_count": null,
   "metadata": {},
   "outputs": [],
   "source": [
    "n = 20\n",
    "G = nx.erdos_renyi_graph(n, 0.11, 0, True)\n",
    "\n",
    "np.random.seed(5)\n",
    "active_nodes = np.zeros(n, 'int')\n",
    "active_nodes[np.random.choice(np.arange(n), 2, False)] = 1\n",
    "thresholds = np.random.uniform(0.5, 1, n)\n",
    "\n",
    "best_active = greedy_influence_max(G, thresholds, 2)\n",
    "sim = linear_threshold(G, best_active, thresholds)\n",
    "\n",
    "plt.figure(figsize=(6*2, 4*4))\n",
    "\n",
    "for i, color in enumerate(sim):\n",
    "    plt.subplot(4, 2, i+1)\n",
    "    nx.draw(G, pos, with_labels=True, \n",
    "            node_color=color+1, \n",
    "            vmin=0, vmax=2, \n",
    "            cmap=plt.cm.rainbow,\n",
    "            edgecolors='black')\n",
    "    plt.title('Step {}'.format(i))\n",
    "plt.show()"
   ]
  },
  {
   "cell_type": "code",
   "execution_count": null,
   "metadata": {},
   "outputs": [],
   "source": []
  }
 ],
 "metadata": {
  "kernelspec": {
   "display_name": "Python 3",
   "language": "python",
   "name": "python3"
  },
  "language_info": {
   "codemirror_mode": {
    "name": "ipython",
    "version": 3
   },
   "file_extension": ".py",
   "mimetype": "text/x-python",
   "name": "python",
   "nbconvert_exporter": "python",
   "pygments_lexer": "ipython3",
   "version": "3.7.4"
  }
 },
 "nbformat": 4,
 "nbformat_minor": 4
}
